{
 "cells": [
  {
   "cell_type": "code",
   "execution_count": 3,
   "id": "38a84dc0",
   "metadata": {},
   "outputs": [],
   "source": [
    "import pymongo"
   ]
  },
  {
   "cell_type": "code",
   "execution_count": 4,
   "id": "e7c5590b",
   "metadata": {},
   "outputs": [
    {
     "name": "stdout",
     "output_type": "stream",
     "text": [
      "{'_id': 3, 'name': 'Amy', 'address': 'Apple st 652'}\n",
      "{'_id': 11, 'name': 'Ben', 'address': 'Park Lane 38'}\n",
      "{'_id': 7, 'name': 'Betty', 'address': 'Green Grass 1'}\n",
      "{'_id': 13, 'name': 'Chuck', 'address': 'Main Road 989'}\n",
      "{'_id': 4, 'name': 'Hannah', 'address': 'Mountain 21'}\n",
      "{'_id': 1, 'name': 'John', 'address': 'Highway 37'}\n",
      "{'_id': 5, 'name': 'Michael', 'address': 'Valley 345'}\n",
      "{'_id': 2, 'name': 'Peter', 'address': 'Lowstreet 27'}\n",
      "{'_id': 8, 'name': 'Richard', 'address': 'Sky st 331'}\n",
      "{'_id': 6, 'name': 'Sandy', 'address': 'Ocean blvd 2'}\n",
      "{'_id': 9, 'name': 'Susan', 'address': 'One way 98'}\n",
      "{'_id': 10, 'name': 'Vicky', 'address': 'Yellow Garden 2'}\n",
      "{'_id': 14, 'name': 'Viola', 'address': 'Sideway 1633'}\n",
      "{'_id': 12, 'name': 'William', 'address': 'Central st 954'}\n"
     ]
    }
   ],
   "source": [
    "# Sort the Result\n",
    "myclient = pymongo.MongoClient('mongodb://localhost:27017/')\n",
    "mydb = myclient.insertDoc\n",
    "mycol = mydb.withID\n",
    "\n",
    "for s in mycol.find().sort('name'):\n",
    "    print(s)"
   ]
  },
  {
   "cell_type": "code",
   "execution_count": 5,
   "id": "3505e64c",
   "metadata": {},
   "outputs": [
    {
     "name": "stdout",
     "output_type": "stream",
     "text": [
      "{'_id': 12, 'name': 'William', 'address': 'Central st 954'}\n",
      "{'_id': 14, 'name': 'Viola', 'address': 'Sideway 1633'}\n",
      "{'_id': 10, 'name': 'Vicky', 'address': 'Yellow Garden 2'}\n",
      "{'_id': 9, 'name': 'Susan', 'address': 'One way 98'}\n",
      "{'_id': 6, 'name': 'Sandy', 'address': 'Ocean blvd 2'}\n",
      "{'_id': 8, 'name': 'Richard', 'address': 'Sky st 331'}\n",
      "{'_id': 2, 'name': 'Peter', 'address': 'Lowstreet 27'}\n",
      "{'_id': 5, 'name': 'Michael', 'address': 'Valley 345'}\n",
      "{'_id': 1, 'name': 'John', 'address': 'Highway 37'}\n",
      "{'_id': 4, 'name': 'Hannah', 'address': 'Mountain 21'}\n",
      "{'_id': 13, 'name': 'Chuck', 'address': 'Main Road 989'}\n",
      "{'_id': 7, 'name': 'Betty', 'address': 'Green Grass 1'}\n",
      "{'_id': 11, 'name': 'Ben', 'address': 'Park Lane 38'}\n",
      "{'_id': 3, 'name': 'Amy', 'address': 'Apple st 652'}\n"
     ]
    }
   ],
   "source": [
    "# Sort Descending\n",
    "for s in mycol.find().sort('name',-1):\n",
    "    print(s)"
   ]
  },
  {
   "cell_type": "code",
   "execution_count": null,
   "id": "36cdd649",
   "metadata": {},
   "outputs": [],
   "source": []
  }
 ],
 "metadata": {
  "kernelspec": {
   "display_name": "Python 3 (ipykernel)",
   "language": "python",
   "name": "python3"
  },
  "language_info": {
   "codemirror_mode": {
    "name": "ipython",
    "version": 3
   },
   "file_extension": ".py",
   "mimetype": "text/x-python",
   "name": "python",
   "nbconvert_exporter": "python",
   "pygments_lexer": "ipython3",
   "version": "3.9.7"
  }
 },
 "nbformat": 4,
 "nbformat_minor": 5
}
