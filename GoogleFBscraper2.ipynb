{
  "nbformat": 4,
  "nbformat_minor": 0,
  "metadata": {
    "colab": {
      "name": "GoogleFBscraper2.ipynb",
      "provenance": [],
      "collapsed_sections": [],
      "mount_file_id": "1hrXqLnQIB2TVY5-B04kCCSfrp_ozFXuH",
      "authorship_tag": "ABX9TyPC7VYwPNSEb2S1UlLdaPCh",
      "include_colab_link": true
    },
    "kernelspec": {
      "name": "python3",
      "display_name": "Python 3"
    },
    "language_info": {
      "name": "python"
    }
  },
  "cells": [
    {
      "cell_type": "markdown",
      "metadata": {
        "id": "view-in-github",
        "colab_type": "text"
      },
      "source": [
        "<a href=\"https://colab.research.google.com/github/Bilal-Subhopoto/DataEngineering-Bilal/blob/main/GoogleFBscraper2.ipynb\" target=\"_parent\"><img src=\"https://colab.research.google.com/assets/colab-badge.svg\" alt=\"Open In Colab\"/></a>"
      ]
    },
    {
      "cell_type": "code",
      "source": [
        "!pip install tldextract "
      ],
      "metadata": {
        "id": "JEnndiin_YKC",
        "colab": {
          "base_uri": "https://localhost:8080/"
        },
        "outputId": "231339b6-a257-4f1c-ae15-256b77ba4cc5"
      },
      "execution_count": null,
      "outputs": [
        {
          "output_type": "stream",
          "name": "stdout",
          "text": [
            "Collecting tldextract\n",
            "  Downloading tldextract-3.1.2-py2.py3-none-any.whl (87 kB)\n",
            "\u001b[?25l\r\u001b[K     |███▊                            | 10 kB 17.1 MB/s eta 0:00:01\r\u001b[K     |███████▌                        | 20 kB 22.9 MB/s eta 0:00:01\r\u001b[K     |███████████▎                    | 30 kB 12.1 MB/s eta 0:00:01\r\u001b[K     |███████████████                 | 40 kB 9.2 MB/s eta 0:00:01\r\u001b[K     |██████████████████▉             | 51 kB 5.0 MB/s eta 0:00:01\r\u001b[K     |██████████████████████▋         | 61 kB 5.4 MB/s eta 0:00:01\r\u001b[K     |██████████████████████████▍     | 71 kB 5.8 MB/s eta 0:00:01\r\u001b[K     |██████████████████████████████  | 81 kB 6.5 MB/s eta 0:00:01\r\u001b[K     |████████████████████████████████| 87 kB 2.9 MB/s \n",
            "\u001b[?25hRequirement already satisfied: idna in /usr/local/lib/python3.7/dist-packages (from tldextract) (2.10)\n",
            "Requirement already satisfied: requests>=2.1.0 in /usr/local/lib/python3.7/dist-packages (from tldextract) (2.23.0)\n",
            "Requirement already satisfied: filelock>=3.0.8 in /usr/local/lib/python3.7/dist-packages (from tldextract) (3.4.0)\n",
            "Collecting requests-file>=1.4\n",
            "  Downloading requests_file-1.5.1-py2.py3-none-any.whl (3.7 kB)\n",
            "Requirement already satisfied: urllib3!=1.25.0,!=1.25.1,<1.26,>=1.21.1 in /usr/local/lib/python3.7/dist-packages (from requests>=2.1.0->tldextract) (1.24.3)\n",
            "Requirement already satisfied: chardet<4,>=3.0.2 in /usr/local/lib/python3.7/dist-packages (from requests>=2.1.0->tldextract) (3.0.4)\n",
            "Requirement already satisfied: certifi>=2017.4.17 in /usr/local/lib/python3.7/dist-packages (from requests>=2.1.0->tldextract) (2021.10.8)\n",
            "Requirement already satisfied: six in /usr/local/lib/python3.7/dist-packages (from requests-file>=1.4->tldextract) (1.15.0)\n",
            "Installing collected packages: requests-file, tldextract\n",
            "Successfully installed requests-file-1.5.1 tldextract-3.1.2\n"
          ]
        }
      ]
    },
    {
      "cell_type": "code",
      "source": [
        "!pip install facebook_scraper"
      ],
      "metadata": {
        "id": "qTK-vsLo7Y8b",
        "colab": {
          "base_uri": "https://localhost:8080/"
        },
        "outputId": "a6591376-1ca8-4d53-e886-54b99e7f15dd"
      },
      "execution_count": null,
      "outputs": [
        {
          "output_type": "stream",
          "name": "stdout",
          "text": [
            "Collecting facebook_scraper\n",
            "  Downloading facebook_scraper-0.2.51-py3-none-any.whl (39 kB)\n",
            "Collecting dateparser<2.0.0,>=1.0.0\n",
            "  Downloading dateparser-1.1.0-py2.py3-none-any.whl (288 kB)\n",
            "\u001b[K     |████████████████████████████████| 288 kB 7.9 MB/s \n",
            "\u001b[?25hCollecting requests-html<0.11.0,>=0.10.0\n",
            "  Downloading requests_html-0.10.0-py3-none-any.whl (13 kB)\n",
            "Collecting browser-cookie3<0.14.0,>=0.13.0\n",
            "  Downloading browser-cookie3-0.13.0.tar.gz (9.4 kB)\n",
            "Collecting demjson3<4.0.0,>=3.0.5\n",
            "  Downloading demjson3-3.0.5.tar.gz (132 kB)\n",
            "\u001b[K     |████████████████████████████████| 132 kB 55.5 MB/s \n",
            "\u001b[?25hCollecting pyaes\n",
            "  Downloading pyaes-1.6.1.tar.gz (28 kB)\n",
            "Collecting pbkdf2\n",
            "  Downloading pbkdf2-1.3.tar.gz (6.4 kB)\n",
            "Collecting keyring\n",
            "  Downloading keyring-23.4.0-py3-none-any.whl (33 kB)\n",
            "Collecting lz4\n",
            "  Downloading lz4-3.1.10-cp37-cp37m-manylinux2010_x86_64.whl (1.8 MB)\n",
            "\u001b[K     |████████████████████████████████| 1.8 MB 36.3 MB/s \n",
            "\u001b[?25hCollecting pycryptodome\n",
            "  Downloading pycryptodome-3.12.0-cp35-abi3-manylinux2010_x86_64.whl (2.0 MB)\n",
            "\u001b[K     |████████████████████████████████| 2.0 MB 33.9 MB/s \n",
            "\u001b[?25hCollecting SecretStorage\n",
            "  Downloading SecretStorage-3.3.1-py3-none-any.whl (15 kB)\n",
            "Requirement already satisfied: python-dateutil in /usr/local/lib/python3.7/dist-packages (from dateparser<2.0.0,>=1.0.0->facebook_scraper) (2.8.2)\n",
            "Requirement already satisfied: regex!=2019.02.19,!=2021.8.27 in /usr/local/lib/python3.7/dist-packages (from dateparser<2.0.0,>=1.0.0->facebook_scraper) (2019.12.20)\n",
            "Requirement already satisfied: pytz in /usr/local/lib/python3.7/dist-packages (from dateparser<2.0.0,>=1.0.0->facebook_scraper) (2018.9)\n",
            "Requirement already satisfied: tzlocal in /usr/local/lib/python3.7/dist-packages (from dateparser<2.0.0,>=1.0.0->facebook_scraper) (1.5.1)\n",
            "Collecting fake-useragent\n",
            "  Downloading fake-useragent-0.1.11.tar.gz (13 kB)\n",
            "Collecting parse\n",
            "  Downloading parse-1.19.0.tar.gz (30 kB)\n",
            "Collecting pyquery\n",
            "  Downloading pyquery-1.4.3-py3-none-any.whl (22 kB)\n",
            "Requirement already satisfied: bs4 in /usr/local/lib/python3.7/dist-packages (from requests-html<0.11.0,>=0.10.0->facebook_scraper) (0.0.1)\n",
            "Collecting pyppeteer>=0.0.14\n",
            "  Downloading pyppeteer-0.2.6-py3-none-any.whl (83 kB)\n",
            "\u001b[K     |████████████████████████████████| 83 kB 2.1 MB/s \n",
            "\u001b[?25hRequirement already satisfied: requests in /usr/local/lib/python3.7/dist-packages (from requests-html<0.11.0,>=0.10.0->facebook_scraper) (2.23.0)\n",
            "Collecting w3lib\n",
            "  Downloading w3lib-1.22.0-py2.py3-none-any.whl (20 kB)\n",
            "Requirement already satisfied: tqdm<5.0.0,>=4.42.1 in /usr/local/lib/python3.7/dist-packages (from pyppeteer>=0.0.14->requests-html<0.11.0,>=0.10.0->facebook_scraper) (4.62.3)\n",
            "Requirement already satisfied: importlib-metadata>=1.4 in /usr/local/lib/python3.7/dist-packages (from pyppeteer>=0.0.14->requests-html<0.11.0,>=0.10.0->facebook_scraper) (4.8.2)\n",
            "Collecting websockets<10.0,>=9.1\n",
            "  Downloading websockets-9.1-cp37-cp37m-manylinux2010_x86_64.whl (103 kB)\n",
            "\u001b[K     |████████████████████████████████| 103 kB 41.9 MB/s \n",
            "\u001b[?25hRequirement already satisfied: appdirs<2.0.0,>=1.4.3 in /usr/local/lib/python3.7/dist-packages (from pyppeteer>=0.0.14->requests-html<0.11.0,>=0.10.0->facebook_scraper) (1.4.4)\n",
            "Collecting urllib3<2.0.0,>=1.25.8\n",
            "  Downloading urllib3-1.26.7-py2.py3-none-any.whl (138 kB)\n",
            "\u001b[K     |████████████████████████████████| 138 kB 68.0 MB/s \n",
            "\u001b[?25hCollecting pyee<9.0.0,>=8.1.0\n",
            "  Downloading pyee-8.2.2-py2.py3-none-any.whl (12 kB)\n",
            "Requirement already satisfied: zipp>=0.5 in /usr/local/lib/python3.7/dist-packages (from importlib-metadata>=1.4->pyppeteer>=0.0.14->requests-html<0.11.0,>=0.10.0->facebook_scraper) (3.6.0)\n",
            "Requirement already satisfied: typing-extensions>=3.6.4 in /usr/local/lib/python3.7/dist-packages (from importlib-metadata>=1.4->pyppeteer>=0.0.14->requests-html<0.11.0,>=0.10.0->facebook_scraper) (3.10.0.2)\n",
            "Requirement already satisfied: beautifulsoup4 in /usr/local/lib/python3.7/dist-packages (from bs4->requests-html<0.11.0,>=0.10.0->facebook_scraper) (4.6.3)\n",
            "Collecting jeepney>=0.4.2\n",
            "  Downloading jeepney-0.7.1-py3-none-any.whl (54 kB)\n",
            "\u001b[K     |████████████████████████████████| 54 kB 2.5 MB/s \n",
            "\u001b[?25hCollecting cryptography>=2.0\n",
            "  Downloading cryptography-36.0.1-cp36-abi3-manylinux_2_24_x86_64.whl (3.6 MB)\n",
            "\u001b[K     |████████████████████████████████| 3.6 MB 41.4 MB/s \n",
            "\u001b[?25hRequirement already satisfied: cffi>=1.12 in /usr/local/lib/python3.7/dist-packages (from cryptography>=2.0->SecretStorage->browser-cookie3<0.14.0,>=0.13.0->facebook_scraper) (1.15.0)\n",
            "Requirement already satisfied: pycparser in /usr/local/lib/python3.7/dist-packages (from cffi>=1.12->cryptography>=2.0->SecretStorage->browser-cookie3<0.14.0,>=0.13.0->facebook_scraper) (2.21)\n",
            "Requirement already satisfied: lxml>=2.1 in /usr/local/lib/python3.7/dist-packages (from pyquery->requests-html<0.11.0,>=0.10.0->facebook_scraper) (4.2.6)\n",
            "Collecting cssselect>0.7.9\n",
            "  Downloading cssselect-1.1.0-py2.py3-none-any.whl (16 kB)\n",
            "Requirement already satisfied: six>=1.5 in /usr/local/lib/python3.7/dist-packages (from python-dateutil->dateparser<2.0.0,>=1.0.0->facebook_scraper) (1.15.0)\n",
            "Collecting urllib3<2.0.0,>=1.25.8\n",
            "  Downloading urllib3-1.25.11-py2.py3-none-any.whl (127 kB)\n",
            "\u001b[K     |████████████████████████████████| 127 kB 73.0 MB/s \n",
            "\u001b[?25hRequirement already satisfied: chardet<4,>=3.0.2 in /usr/local/lib/python3.7/dist-packages (from requests->requests-html<0.11.0,>=0.10.0->facebook_scraper) (3.0.4)\n",
            "Requirement already satisfied: idna<3,>=2.5 in /usr/local/lib/python3.7/dist-packages (from requests->requests-html<0.11.0,>=0.10.0->facebook_scraper) (2.10)\n",
            "Requirement already satisfied: certifi>=2017.4.17 in /usr/local/lib/python3.7/dist-packages (from requests->requests-html<0.11.0,>=0.10.0->facebook_scraper) (2021.10.8)\n",
            "Building wheels for collected packages: browser-cookie3, demjson3, fake-useragent, parse, pbkdf2, pyaes\n",
            "  Building wheel for browser-cookie3 (setup.py) ... \u001b[?25l\u001b[?25hdone\n",
            "  Created wheel for browser-cookie3: filename=browser_cookie3-0.13.0-py3-none-any.whl size=8002 sha256=756382c043eac400e1e8d7e5352f681400d75b3440d582e827b6144ed21f100d\n",
            "  Stored in directory: /root/.cache/pip/wheels/b6/c3/49/b4b8995fe98bce9592770ed77dfb8e1e22c0174348626053da\n",
            "  Building wheel for demjson3 (setup.py) ... \u001b[?25l\u001b[?25hdone\n",
            "  Created wheel for demjson3: filename=demjson3-3.0.5-py3-none-any.whl size=76070 sha256=9f6f8d88e9c5991318225b2f69b3b115f438951907289beb6ad11aee281ea476\n",
            "  Stored in directory: /root/.cache/pip/wheels/c1/8b/a2/29e1cb2a9a3a27a5cfe8a57856a3310ea1e3c0a394eee8db61\n",
            "  Building wheel for fake-useragent (setup.py) ... \u001b[?25l\u001b[?25hdone\n",
            "  Created wheel for fake-useragent: filename=fake_useragent-0.1.11-py3-none-any.whl size=13502 sha256=fcb5a942caffd1a5fe3c379f05ebf482f4a97a339f2fca427650a56e75666fa7\n",
            "  Stored in directory: /root/.cache/pip/wheels/ed/f7/62/50ab6c9a0b5567267ab76a9daa9d06315704209b2c5d032031\n",
            "  Building wheel for parse (setup.py) ... \u001b[?25l\u001b[?25hdone\n",
            "  Created wheel for parse: filename=parse-1.19.0-py3-none-any.whl size=24591 sha256=4e034588326eb2ae7e5f55497c2804babf44553d9a6de4833d7c09f9340509a3\n",
            "  Stored in directory: /root/.cache/pip/wheels/9c/aa/cc/f2228050ccb40f22144b073f15a2c84f11204f29fc0dce028e\n",
            "  Building wheel for pbkdf2 (setup.py) ... \u001b[?25l\u001b[?25hdone\n",
            "  Created wheel for pbkdf2: filename=pbkdf2-1.3-py3-none-any.whl size=5103 sha256=9f538316e66e2d2cb53b8ed09abd9cba2651527cec6c2290676ce6c310b2b61a\n",
            "  Stored in directory: /root/.cache/pip/wheels/49/16/ea/daca297d70ee0782ac6e16e83b2c55b2ca42a2113750bc0489\n",
            "  Building wheel for pyaes (setup.py) ... \u001b[?25l\u001b[?25hdone\n",
            "  Created wheel for pyaes: filename=pyaes-1.6.1-py3-none-any.whl size=26362 sha256=29bc709f9877afceb690a0bf3147bdaf4eb2eae83edb10ca9d76de08b39805e3\n",
            "  Stored in directory: /root/.cache/pip/wheels/42/a3/7d/73d60820adb58d818179cdec3fc1be66f6f7453513a3ff0b05\n",
            "Successfully built browser-cookie3 demjson3 fake-useragent parse pbkdf2 pyaes\n",
            "Installing collected packages: jeepney, cryptography, websockets, urllib3, SecretStorage, pyee, cssselect, w3lib, pyquery, pyppeteer, pycryptodome, pyaes, pbkdf2, parse, lz4, keyring, fake-useragent, requests-html, demjson3, dateparser, browser-cookie3, facebook-scraper\n",
            "  Attempting uninstall: urllib3\n",
            "    Found existing installation: urllib3 1.24.3\n",
            "    Uninstalling urllib3-1.24.3:\n",
            "      Successfully uninstalled urllib3-1.24.3\n",
            "\u001b[31mERROR: pip's dependency resolver does not currently take into account all the packages that are installed. This behaviour is the source of the following dependency conflicts.\n",
            "datascience 0.10.6 requires folium==0.2.1, but you have folium 0.8.3 which is incompatible.\u001b[0m\n",
            "Successfully installed SecretStorage-3.3.1 browser-cookie3-0.13.0 cryptography-36.0.1 cssselect-1.1.0 dateparser-1.1.0 demjson3-3.0.5 facebook-scraper-0.2.51 fake-useragent-0.1.11 jeepney-0.7.1 keyring-23.4.0 lz4-3.1.10 parse-1.19.0 pbkdf2-1.3 pyaes-1.6.1 pycryptodome-3.12.0 pyee-8.2.2 pyppeteer-0.2.6 pyquery-1.4.3 requests-html-0.10.0 urllib3-1.25.11 w3lib-1.22.0 websockets-9.1\n"
          ]
        }
      ]
    },
    {
      "cell_type": "code",
      "source": [
        "!pip install redis"
      ],
      "metadata": {
        "id": "lKX-78Cm8UZZ",
        "colab": {
          "base_uri": "https://localhost:8080/"
        },
        "outputId": "67263de9-4d2b-4586-f9da-42c3a782daa5"
      },
      "execution_count": null,
      "outputs": [
        {
          "output_type": "stream",
          "name": "stdout",
          "text": [
            "Collecting redis\n",
            "  Downloading redis-4.0.2-py3-none-any.whl (119 kB)\n",
            "\u001b[?25l\r\u001b[K     |██▊                             | 10 kB 15.3 MB/s eta 0:00:01\r\u001b[K     |█████▌                          | 20 kB 18.8 MB/s eta 0:00:01\r\u001b[K     |████████▏                       | 30 kB 21.8 MB/s eta 0:00:01\r\u001b[K     |███████████                     | 40 kB 23.4 MB/s eta 0:00:01\r\u001b[K     |█████████████▊                  | 51 kB 10.4 MB/s eta 0:00:01\r\u001b[K     |████████████████▍               | 61 kB 5.5 MB/s eta 0:00:01\r\u001b[K     |███████████████████▏            | 71 kB 5.8 MB/s eta 0:00:01\r\u001b[K     |██████████████████████          | 81 kB 6.4 MB/s eta 0:00:01\r\u001b[K     |████████████████████████▋       | 92 kB 6.3 MB/s eta 0:00:01\r\u001b[K     |███████████████████████████▍    | 102 kB 6.7 MB/s eta 0:00:01\r\u001b[K     |██████████████████████████████▏ | 112 kB 6.7 MB/s eta 0:00:01\r\u001b[K     |████████████████████████████████| 119 kB 6.7 MB/s \n",
            "\u001b[?25hCollecting deprecated\n",
            "  Downloading Deprecated-1.2.13-py2.py3-none-any.whl (9.6 kB)\n",
            "Requirement already satisfied: wrapt<2,>=1.10 in /usr/local/lib/python3.7/dist-packages (from deprecated->redis) (1.13.3)\n",
            "Installing collected packages: deprecated, redis\n",
            "Successfully installed deprecated-1.2.13 redis-4.0.2\n"
          ]
        }
      ]
    },
    {
      "cell_type": "code",
      "source": [
        "from googlesearch import search\n",
        "import tldextract\n",
        "import time\n",
        "import random\n",
        "import redis\n",
        "from facebook_scraper import get_posts\n",
        "masterDB = redis.Redis(host='43.251.253.107', port=1500, db=0)\n",
        "DB1 = redis.Redis(host='43.251.253.107', port=1500, db=1)\n",
        "DB2 = redis.Redis(host='43.251.253.107', port=1500, db=2)\n",
        "import pymongo\n",
        "myclient = pymongo.MongoClient(\"mongodb://43.251.253.107:1600/\")\n",
        "mydb = myclient['GoogleFBscraper2-Bilal']\n",
        "mycol = mydb['Allposts']"
      ],
      "metadata": {
        "id": "V9SO1y9qqhex"
      },
      "execution_count": null,
      "outputs": []
    },
    {
      "cell_type": "code",
      "source": [
        "# read sets' keys from redis masterDB and decode\n",
        "sitenames_list = []\n",
        "for keyb in masterDB.scan_iter():\n",
        "  # print(keyb)\n",
        "  keyS = keyb.decode(\"utf-8\")\n",
        "  sitenames_list.append(keyS)# read all the keys from redis into python list\n",
        "  # masterDB.spop(key1)# loop over the above list and delete each entry from redis\n",
        "print(sitenames_list)#simple strings inside list, NOT byte"
      ],
      "metadata": {
        "id": "-qXRd3far52M"
      },
      "execution_count": null,
      "outputs": []
    },
    {
      "cell_type": "code",
      "source": [
        "# google-search each sitename from the above list\n",
        "urls = []\n",
        "for ttls in sitenames_list:\n",
        "  \n",
        "  try:\n",
        "    resp=search(\"facebook.com \"+ttls, num=2)   \n",
        "    time.sleep(random.randint(5,12))\n",
        "    for link in resp:\n",
        "      childFLD=tldextract.extract(link)\n",
        "      childFLD=childFLD.domain\n",
        "      if childFLD==\"facebook\":\n",
        "        try:\n",
        "          print(link)\n",
        "          pageNames = link.split('/')[3].strip()\n",
        "          # pageNames = link.split('/')[2:3]use either\n",
        "          print(pageNames)\n",
        "          DB1.sadd(pageNames,'sitename') # insert the extracted unique fb page name into redis DB-1\n",
        "          masterDB.spop(ttls) # in the for loop of list from redis after finding unique page name on google delete that particular key of sitename from DB-0\n",
        "        except Exception as e:\n",
        "          print(e)\n",
        "          break\n",
        "        break\n",
        "  except Exception as e:\n",
        "    print(e)\n",
        "    break\n",
        "# make sure that the key(s) is deleted from DB-0 only when a succesful unique Fb page name is found.\n",
        "# make sure when google blocks us the program should enddddd\n",
        "# this concept is state management in DB-0 "
      ],
      "metadata": {
        "colab": {
          "base_uri": "https://localhost:8080/"
        },
        "id": "5o3TV4ApsKDH",
        "outputId": "c979c2c8-aa4a-491e-9280-2462d31fc6ec"
      },
      "execution_count": null,
      "outputs": [
        {
          "output_type": "stream",
          "name": "stdout",
          "text": [
            "https://www.facebook.com/time/\n",
            "time\n",
            "https://www.facebook.com/TELEGRAPH.CO.UK/\n",
            "TELEGRAPH.CO.UK\n",
            "https://www.facebook.com/businessinsider/\n",
            "businessinsider\n",
            "https://www.facebook.com/boston/\n",
            "boston\n",
            "https://www.facebook.com/globe/\n",
            "globe\n",
            "https://www.facebook.com/FoxNews\n",
            "FoxNews\n",
            "https://www.facebook.com/NYDailyNews/\n",
            "NYDailyNews\n",
            "https://www.facebook.com/CBSNews/\n",
            "CBSNews\n",
            "https://www.facebook.com/HuffPost/\n",
            "HuffPost\n",
            "https://www.facebook.com/bleacherreport/\n",
            "bleacherreport\n",
            "https://www.facebook.com/msn/\n",
            "msn\n",
            "https://www.facebook.com/detroitfreepress/\n",
            "detroitfreepress\n",
            "https://www.facebook.com/latimes/\n",
            "latimes\n",
            "https://www.facebook.com/examiner.net/\n",
            "examiner.net\n",
            "https://www.facebook.com/TheAtlantic/\n",
            "TheAtlantic\n",
            "https://www.facebook.com/Slate/\n",
            "Slate\n",
            "https://www.facebook.com/chroncom/\n",
            "chroncom\n",
            "HTTP Error 429: Too Many Requests\n"
          ]
        }
      ]
    },
    {
      "cell_type": "code",
      "source": [
        "# read sets' keys from redis DB1 and decode\n",
        "for keyb1 in DB1.scan_iter():\n",
        "  print(keyb1)\n",
        "  keyS1 = keyb1.decode(\"utf-8\")\n",
        "  urls.append(keyS1)# read all the keys from redis into python list\n",
        "  # masterDB.spop(key1)# loop over the above list and delete each entry from redis\n",
        "print(urls)#simple strings inside list, NOT byte from DB1"
      ],
      "metadata": {
        "colab": {
          "base_uri": "https://localhost:8080/"
        },
        "id": "sK7eHjCkJ-sp",
        "outputId": "5a2a7259-4291-46e8-fe29-9e05fbc8fd6c"
      },
      "execution_count": null,
      "outputs": [
        {
          "output_type": "stream",
          "name": "stdout",
          "text": [
            "b'msn'\n",
            "b'Vox'\n",
            "b'bleacherreport'\n",
            "b'chroncom'\n",
            "b'boston'\n",
            "b'latimes'\n",
            "b'examiner.net'\n",
            "b'TELEGRAPH.CO.UK'\n",
            "b'detroitfreepress'\n",
            "b'NYDailyNews'\n",
            "b'HuffPost'\n",
            "b'Gawker'\n",
            "b'NJ.com'\n",
            "b'Slate'\n",
            "b'businessinsider'\n",
            "b'TheAtlantic'\n",
            "b'CBSNews'\n",
            "b'FoxNews'\n",
            "b'time'\n",
            "b'globe'\n",
            "['msn', 'Vox', 'bleacherreport', 'chroncom', 'boston', 'latimes', 'examiner.net', 'TELEGRAPH.CO.UK', 'detroitfreepress', 'NYDailyNews', 'HuffPost', 'Gawker', 'NJ.com', 'Slate', 'businessinsider', 'TheAtlantic', 'CBSNews', 'FoxNews', 'time', 'globe']\n"
          ]
        }
      ]
    },
    {
      "cell_type": "code",
      "source": [
        "# urls:\n",
        "# fb urls to extract posts data and upload on DB-1\n",
        "fields = ('comments','link','likes','images','shared_time','text','post_id','reactions','shares','user_id','time','timestamp','time')\n",
        "# fbPages = ('ABCNews','cnn','NBCNews','mlive','TheIndependentOnline','thedailybeast','WashingtonExaminer','Gawker','Upworthy','chroncom','Slate','bleacherreport','EliteDaily','washingtonpost','DailyMail','nytimes','BuzzFeed','usatoday','CBSNews','HuffPost')\n",
        "for fbp in urls:\n",
        "  try:\n",
        "    for post in get_posts(fbp, pages= 3,cookies= 'cookies.txt'):\n",
        "      collection = {'pageName':fbp}    \n",
        "      for items in fields:\n",
        "        collection[items] = (post[items])\n",
        "        # DB2.hset(fbp,items,post[items])\n",
        "      x = mycol.insert_one(collection) \n",
        "  except Exception as e:\n",
        "    print(e)"
      ],
      "metadata": {
        "id": "AB-GMTpdGBz6"
      },
      "execution_count": null,
      "outputs": []
    },
    {
      "cell_type": "code",
      "source": [
        "#read the facebook scraper issues, and find out how to pass the cookies file in json format"
      ],
      "metadata": {
        "id": "HxUgp6uQQ0E3"
      },
      "execution_count": null,
      "outputs": []
    },
    {
      "cell_type": "code",
      "source": [
        "cookiess = \"\"\"[\n",
        "{\n",
        "    \"domain\": \".facebook.com\",\n",
        "    \"expirationDate\": 1671526387.721643,\n",
        "    \"hostOnly\": false,\n",
        "    \"httpOnly\": false,\n",
        "    \"name\": \"c_user\",\n",
        "    \"path\": \"/\",\n",
        "    \"sameSite\": \"no_restriction\",\n",
        "    \"secure\": true,\n",
        "    \"session\": false,\n",
        "    \"storeId\": \"0\",\n",
        "    \"value\": \"100075931215749\",\n",
        "    \"id\": 1\n",
        "},\n",
        "{\n",
        "    \"domain\": \".facebook.com\",\n",
        "    \"expirationDate\": 1702550575.332421,\n",
        "    \"hostOnly\": false,\n",
        "    \"httpOnly\": true,\n",
        "    \"name\": \"datr\",\n",
        "    \"path\": \"/\",\n",
        "    \"sameSite\": \"no_restriction\",\n",
        "    \"secure\": true,\n",
        "    \"session\": false,\n",
        "    \"storeId\": \"0\",\n",
        "    \"value\": \"UHW4YQCFtXIk7fgXE3wLOau_\",\n",
        "    \"id\": 2\n",
        "},\n",
        "{\n",
        "    \"domain\": \".facebook.com\",\n",
        "    \"expirationDate\": 1647766386.721768,\n",
        "    \"hostOnly\": false,\n",
        "    \"httpOnly\": true,\n",
        "    \"name\": \"fr\",\n",
        "    \"path\": \"/\",\n",
        "    \"sameSite\": \"no_restriction\",\n",
        "    \"secure\": true,\n",
        "    \"session\": false,\n",
        "    \"storeId\": \"0\",\n",
        "    \"value\": \"0nohD2rSqt6wlvowo.AWWEK4AJgmalhn0n9FJaGxAWOwg.BhwESu.Xl.AAA.0.0.BhwESu.AWVczTDNHoI\",\n",
        "    \"id\": 3\n",
        "},\n",
        "{\n",
        "    \"domain\": \".facebook.com\",\n",
        "    \"expirationDate\": 1640086480.506574,\n",
        "    \"hostOnly\": false,\n",
        "    \"httpOnly\": false,\n",
        "    \"name\": \"locale\",\n",
        "    \"path\": \"/\",\n",
        "    \"sameSite\": \"no_restriction\",\n",
        "    \"secure\": true,\n",
        "    \"session\": false,\n",
        "    \"storeId\": \"0\",\n",
        "    \"value\": \"en_US\",\n",
        "    \"id\": 4\n",
        "},\n",
        "{\n",
        "    \"domain\": \".facebook.com\",\n",
        "    \"hostOnly\": false,\n",
        "    \"httpOnly\": false,\n",
        "    \"name\": \"m_pixel_ratio\",\n",
        "    \"path\": \"/\",\n",
        "    \"sameSite\": \"unspecified\",\n",
        "    \"secure\": true,\n",
        "    \"session\": true,\n",
        "    \"storeId\": \"0\",\n",
        "    \"value\": \"1\",\n",
        "    \"id\": 5\n",
        "},\n",
        "{\n",
        "    \"domain\": \".facebook.com\",\n",
        "    \"hostOnly\": false,\n",
        "    \"httpOnly\": false,\n",
        "    \"name\": \"presence\",\n",
        "    \"path\": \"/\",\n",
        "    \"sameSite\": \"unspecified\",\n",
        "    \"secure\": true,\n",
        "    \"session\": true,\n",
        "    \"storeId\": \"0\",\n",
        "    \"value\": \"C%7B%22t3%22%3A%5B%5D%2C%22utc3%22%3A1639986198548%2C%22v%22%3A1%7D\",\n",
        "    \"id\": 6\n",
        "},\n",
        "{\n",
        "    \"domain\": \".facebook.com\",\n",
        "    \"expirationDate\": 1702553947.664819,\n",
        "    \"hostOnly\": false,\n",
        "    \"httpOnly\": true,\n",
        "    \"name\": \"sb\",\n",
        "    \"path\": \"/\",\n",
        "    \"sameSite\": \"no_restriction\",\n",
        "    \"secure\": true,\n",
        "    \"session\": false,\n",
        "    \"storeId\": \"0\",\n",
        "    \"value\": \"P5O3YKz9w9O4hpJpgIRZ46OK\",\n",
        "    \"id\": 7\n",
        "},\n",
        "{\n",
        "    \"domain\": \".facebook.com\",\n",
        "    \"expirationDate\": 1640338600,\n",
        "    \"hostOnly\": false,\n",
        "    \"httpOnly\": false,\n",
        "    \"name\": \"wd\",\n",
        "    \"path\": \"/\",\n",
        "    \"sameSite\": \"lax\",\n",
        "    \"secure\": true,\n",
        "    \"session\": false,\n",
        "    \"storeId\": \"0\",\n",
        "    \"value\": \"1349x651\",\n",
        "    \"id\": 8\n",
        "},\n",
        "{\n",
        "    \"domain\": \".facebook.com\",\n",
        "    \"hostOnly\": false,\n",
        "    \"httpOnly\": false,\n",
        "    \"name\": \"x-referer\",\n",
        "    \"path\": \"/\",\n",
        "    \"sameSite\": \"no_restriction\",\n",
        "    \"secure\": true,\n",
        "    \"session\": true,\n",
        "    \"storeId\": \"0\",\n",
        "    \"value\": \"eyJyIjoiL2licmFoaW1JbXBvcnRlZC8iLCJoIjoiL2licmFoaW1JbXBvcnRlZC8iLCJzIjoibSJ9\",\n",
        "    \"id\": 9\n",
        "},\n",
        "{\n",
        "    \"domain\": \".facebook.com\",\n",
        "    \"expirationDate\": 1671526387.721729,\n",
        "    \"hostOnly\": false,\n",
        "    \"httpOnly\": true,\n",
        "    \"name\": \"xs\",\n",
        "    \"path\": \"/\",\n",
        "    \"sameSite\": \"no_restriction\",\n",
        "    \"secure\": true,\n",
        "    \"session\": false,\n",
        "    \"storeId\": \"0\",\n",
        "    \"value\": \"37%3AyXU38arEF2iSNQ%3A2%3A1639481998%3A-1%3A-1%3A%3AAcVmFqUNByvfiD3lTG1Yz9MdrVJROUGW7kYhRhtAFgg\",\n",
        "    \"id\": 10\n",
        "}\n",
        "]\"\"\""
      ],
      "metadata": {
        "id": "WIYadPAcJQAW"
      },
      "execution_count": null,
      "outputs": []
    }
  ]
}