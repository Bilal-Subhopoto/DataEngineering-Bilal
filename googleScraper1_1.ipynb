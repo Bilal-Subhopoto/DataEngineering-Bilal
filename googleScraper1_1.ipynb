{
  "cells": [
    {
      "cell_type": "markdown",
      "metadata": {
        "id": "view-in-github",
        "colab_type": "text"
      },
      "source": [
        "<a href=\"https://colab.research.google.com/github/Bilal-Subhopoto/DataEngineering-Bilal/blob/main/googleScraper1_1.ipynb\" target=\"_parent\"><img src=\"https://colab.research.google.com/assets/colab-badge.svg\" alt=\"Open In Colab\"/></a>"
      ]
    },
    {
      "cell_type": "code",
      "execution_count": null,
      "metadata": {
        "colab": {
          "base_uri": "https://localhost:8080/"
        },
        "id": "lFdo5vEV-3_L",
        "outputId": "155474ad-8ff4-4d72-d8bc-0a2f3ad937be"
      },
      "outputs": [
        {
          "name": "stdout",
          "output_type": "stream",
          "text": [
            "Collecting redis\n",
            "  Downloading redis-4.1.0-py3-none-any.whl (171 kB)\n",
            "\u001b[?25l\r\u001b[K     |██                              | 10 kB 23.7 MB/s eta 0:00:01\r\u001b[K     |███▉                            | 20 kB 26.4 MB/s eta 0:00:01\r\u001b[K     |█████▊                          | 30 kB 11.4 MB/s eta 0:00:01\r\u001b[K     |███████▋                        | 40 kB 8.9 MB/s eta 0:00:01\r\u001b[K     |█████████▌                      | 51 kB 5.6 MB/s eta 0:00:01\r\u001b[K     |███████████▍                    | 61 kB 5.7 MB/s eta 0:00:01\r\u001b[K     |█████████████▍                  | 71 kB 5.7 MB/s eta 0:00:01\r\u001b[K     |███████████████▎                | 81 kB 6.4 MB/s eta 0:00:01\r\u001b[K     |█████████████████▏              | 92 kB 5.0 MB/s eta 0:00:01\r\u001b[K     |███████████████████             | 102 kB 5.4 MB/s eta 0:00:01\r\u001b[K     |█████████████████████           | 112 kB 5.4 MB/s eta 0:00:01\r\u001b[K     |██████████████████████▉         | 122 kB 5.4 MB/s eta 0:00:01\r\u001b[K     |████████████████████████▉       | 133 kB 5.4 MB/s eta 0:00:01\r\u001b[K     |██████████████████████████▊     | 143 kB 5.4 MB/s eta 0:00:01\r\u001b[K     |████████████████████████████▋   | 153 kB 5.4 MB/s eta 0:00:01\r\u001b[K     |██████████████████████████████▌ | 163 kB 5.4 MB/s eta 0:00:01\r\u001b[K     |████████████████████████████████| 171 kB 5.4 MB/s \n",
            "\u001b[?25hRequirement already satisfied: importlib-metadata>=1.0 in /usr/local/lib/python3.7/dist-packages (from redis) (4.8.2)\n",
            "Collecting deprecated>=1.2.3\n",
            "  Downloading Deprecated-1.2.13-py2.py3-none-any.whl (9.6 kB)\n",
            "Requirement already satisfied: packaging>=21.3 in /usr/local/lib/python3.7/dist-packages (from redis) (21.3)\n",
            "Requirement already satisfied: wrapt<2,>=1.10 in /usr/local/lib/python3.7/dist-packages (from deprecated>=1.2.3->redis) (1.13.3)\n",
            "Requirement already satisfied: zipp>=0.5 in /usr/local/lib/python3.7/dist-packages (from importlib-metadata>=1.0->redis) (3.6.0)\n",
            "Requirement already satisfied: typing-extensions>=3.6.4 in /usr/local/lib/python3.7/dist-packages (from importlib-metadata>=1.0->redis) (3.10.0.2)\n",
            "Requirement already satisfied: pyparsing!=3.0.5,>=2.0.2 in /usr/local/lib/python3.7/dist-packages (from packaging>=21.3->redis) (3.0.6)\n",
            "Installing collected packages: deprecated, redis\n",
            "Successfully installed deprecated-1.2.13 redis-4.1.0\n",
            "Collecting tldextract\n",
            "  Downloading tldextract-3.1.2-py2.py3-none-any.whl (87 kB)\n",
            "\u001b[K     |████████████████████████████████| 87 kB 3.0 MB/s \n",
            "\u001b[?25hRequirement already satisfied: filelock>=3.0.8 in /usr/local/lib/python3.7/dist-packages (from tldextract) (3.4.0)\n",
            "Requirement already satisfied: idna in /usr/local/lib/python3.7/dist-packages (from tldextract) (2.10)\n",
            "Collecting requests-file>=1.4\n",
            "  Downloading requests_file-1.5.1-py2.py3-none-any.whl (3.7 kB)\n",
            "Requirement already satisfied: requests>=2.1.0 in /usr/local/lib/python3.7/dist-packages (from tldextract) (2.23.0)\n",
            "Requirement already satisfied: urllib3!=1.25.0,!=1.25.1,<1.26,>=1.21.1 in /usr/local/lib/python3.7/dist-packages (from requests>=2.1.0->tldextract) (1.24.3)\n",
            "Requirement already satisfied: certifi>=2017.4.17 in /usr/local/lib/python3.7/dist-packages (from requests>=2.1.0->tldextract) (2021.10.8)\n",
            "Requirement already satisfied: chardet<4,>=3.0.2 in /usr/local/lib/python3.7/dist-packages (from requests>=2.1.0->tldextract) (3.0.4)\n",
            "Requirement already satisfied: six in /usr/local/lib/python3.7/dist-packages (from requests-file>=1.4->tldextract) (1.15.0)\n",
            "Installing collected packages: requests-file, tldextract\n",
            "Successfully installed requests-file-1.5.1 tldextract-3.1.2\n"
          ]
        }
      ],
      "source": [
        "!pip install redis\n",
        "!pip install tldextract\n",
        "from googlesearch import search\n",
        "import tldextract\n",
        "import time\n",
        "import random\n",
        "import redis"
      ]
    },
    {
      "cell_type": "code",
      "execution_count": null,
      "metadata": {
        "id": "Ei01AZDh9fbr"
      },
      "outputs": [],
      "source": [
        "masterDB = redis.Redis(host='43.251.253.107', port=1500, db=11)\n",
        "stateDB = redis.Redis(host='43.251.253.107', port=1500, db=12)\n",
        "# todayDB = redis.Redis(host='43.251.253.107', port=1500, db=13)\n",
        "GResultsDB = redis.Redis(host = '43.251.253.107', port = 1500, db = 13)\n",
        "DB14 = redis.Redis(host = '43.251.253.107', port = 1500, db = 14)\n",
        "# todayDB.flushdb()\n",
        "# GResultsDB.flushdb()"
      ]
    },
    {
      "cell_type": "code",
      "execution_count": null,
      "metadata": {
        "id": "O3VjeCP6OM9C"
      },
      "outputs": [],
      "source": [
        "# keys=masterDB.keys()\n",
        "# i = 0   \n",
        "# for key in keys:\n",
        "#   #  \"www.buzfeed.com\"\n",
        "#   todayDB.sadd('allurls',key)#key.decode(\"utf-8\")\n",
        "#   # the todayDb will look like => 'allurls',[all links of masterdb]\n",
        "#   i +=1\n",
        "#   if i ==80:\n",
        "#     break"
      ]
    },
    {
      "cell_type": "code",
      "execution_count": null,
      "metadata": {
        "colab": {
          "background_save": true,
          "base_uri": "https://localhost:8080/"
        },
        "id": "9RUEVLuTIdpM",
        "outputId": "534ed459-64e4-4d66-bda3-34984096cfe2"
      },
      "outputs": [
        {
          "name": "stdout",
          "output_type": "stream",
          "text": [
            "ARTICLECONTENTKING.COM\n",
            "ExtractResult(subdomain='', domain='ARTICLECONTENTKING', suffix='COM')\n",
            "techporn.ph\n",
            "ExtractResult(subdomain='', domain='techporn', suffix='ph')\n",
            "dumblittleman.com\n",
            "ExtractResult(subdomain='', domain='dumblittleman', suffix='com')\n",
            "ARTICLECONTENTKING.COM\n",
            "ExtractResult(subdomain='', domain='ARTICLECONTENTKING', suffix='COM')\n",
            "2moveabroad.com\n",
            "ExtractResult(subdomain='', domain='2moveabroad', suffix='com')\n",
            "techporn.ph\n",
            "ExtractResult(subdomain='', domain='techporn', suffix='ph')\n",
            "mytechtalky.com\n",
            "ExtractResult(subdomain='', domain='mytechtalky', suffix='com')\n",
            "THECONTENTCORNER.COM\n",
            "ExtractResult(subdomain='', domain='THECONTENTCORNER', suffix='COM')\n",
            "hellobee.com\n",
            "ExtractResult(subdomain='', domain='hellobee', suffix='com')\n",
            "dumblittleman.com\n",
            "ExtractResult(subdomain='', domain='dumblittleman', suffix='com')\n",
            "THECONTENTCORNER.COM\n",
            "ExtractResult(subdomain='', domain='THECONTENTCORNER', suffix='COM')\n",
            "dumblittleman.com\n",
            "ExtractResult(subdomain='', domain='dumblittleman', suffix='com')\n",
            "contattolab.it\n",
            "ExtractResult(subdomain='', domain='contattolab', suffix='it')\n",
            "hellobee.com\n",
            "ExtractResult(subdomain='', domain='hellobee', suffix='com')\n",
            "hellobee.com\n",
            "ExtractResult(subdomain='', domain='hellobee', suffix='com')\n",
            "bellyfatformula.com\n",
            "ExtractResult(subdomain='', domain='bellyfatformula', suffix='com')\n",
            "bellyfatformula.com\n",
            "ExtractResult(subdomain='', domain='bellyfatformula', suffix='com')\n",
            "totallythebomb.com\n",
            "ExtractResult(subdomain='', domain='totallythebomb', suffix='com')\n",
            "HTTP Error 429: Too Many Requests\n"
          ]
        }
      ],
      "source": [
        "while(1):\n",
        "# we make sure we get random links from the tempdb\n",
        "  link=stateDB.srandmember(\"allurls\") #pick a random value from \"allurls\"\n",
        "  dlink=link.decode(\"utf-8\")\n",
        "  print(dlink)\n",
        "  #www.cnn.com\n",
        "  link=tldextract.extract(dlink)\n",
        "  domain = link.domain\n",
        "  domain = str(domain)\n",
        "  link = str(link)  \n",
        "  print(link)\n",
        "  try:\n",
        "    resp=search(\"facebook.com \"+link, num=10, stop=10)   \n",
        "    time.sleep(random.randint(5,12))\n",
        "    for fblink in resp:\n",
        "      try:\n",
        "        GResultsDB.sadd(domain,fblink)#10 links under one key\n",
        "        DB14.sadd(domain,fblink)\n",
        "        stateDB.srem(\"allurls\",dlink)#remove 'link' member from todayDB\n",
        "      except Exception as e:\n",
        "        print(e)\n",
        "        break\n",
        "  except Exception as e:\n",
        "    print(e)\n",
        "    break"
      ]
    }
  ],
  "metadata": {
    "colab": {
      "collapsed_sections": [],
      "name": "googleScraper1.1.ipynb",
      "provenance": [],
      "include_colab_link": true
    },
    "kernelspec": {
      "display_name": "Python 3",
      "name": "python3"
    },
    "language_info": {
      "name": "python"
    }
  },
  "nbformat": 4,
  "nbformat_minor": 0
}