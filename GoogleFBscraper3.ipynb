{
  "nbformat": 4,
  "nbformat_minor": 0,
  "metadata": {
    "colab": {
      "name": "GoogleFBscraper3.ipynb",
      "provenance": [],
      "collapsed_sections": [],
      "mount_file_id": "1hrXqLnQIB2TVY5-B04kCCSfrp_ozFXuH",
      "authorship_tag": "ABX9TyOkdY3t0nwjEa/U9Ynvtteo",
      "include_colab_link": true
    },
    "kernelspec": {
      "name": "python3",
      "display_name": "Python 3"
    },
    "language_info": {
      "name": "python"
    }
  },
  "cells": [
    {
      "cell_type": "markdown",
      "metadata": {
        "id": "view-in-github",
        "colab_type": "text"
      },
      "source": [
        "<a href=\"https://colab.research.google.com/github/Bilal-Subhopoto/DataEngineering-Bilal/blob/main/GoogleFBscraper3.ipynb\" target=\"_parent\"><img src=\"https://colab.research.google.com/assets/colab-badge.svg\" alt=\"Open In Colab\"/></a>"
      ]
    },
    {
      "cell_type": "code",
      "source": [
        "# this cell should have multi-line cookie string as a variable, \n",
        "# write that string to cookie1.txt\n",
        "x = \"\"\"[\n",
        "{\n",
        "    \"domain\": \".facebook.com\",\n",
        "    \"expirationDate\": 1671530006.820002,\n",
        "    \"hostOnly\": false,\n",
        "    \"httpOnly\": false,\n",
        "    \"name\": \"c_user\",\n",
        "    \"path\": \"/\",\n",
        "    \"sameSite\": \"no_restriction\",\n",
        "    \"secure\": true,\n",
        "    \"session\": false,\n",
        "    \"storeId\": \"0\",\n",
        "    \"value\": \"100075931215749\",\n",
        "    \"id\": 1\n",
        "},\n",
        "{\n",
        "    \"domain\": \".facebook.com\",\n",
        "    \"expirationDate\": 1702550575.332421,\n",
        "    \"hostOnly\": false,\n",
        "    \"httpOnly\": true,\n",
        "    \"name\": \"datr\",\n",
        "    \"path\": \"/\",\n",
        "    \"sameSite\": \"no_restriction\",\n",
        "    \"secure\": true,\n",
        "    \"session\": false,\n",
        "    \"storeId\": \"0\",\n",
        "    \"value\": \"UHW4YQCFtXIk7fgXE3wLOau_\",\n",
        "    \"id\": 2\n",
        "},\n",
        "{\n",
        "    \"domain\": \".facebook.com\",\n",
        "    \"expirationDate\": 1647770005.820115,\n",
        "    \"hostOnly\": false,\n",
        "    \"httpOnly\": true,\n",
        "    \"name\": \"fr\",\n",
        "    \"path\": \"/\",\n",
        "    \"sameSite\": \"no_restriction\",\n",
        "    \"secure\": true,\n",
        "    \"session\": false,\n",
        "    \"storeId\": \"0\",\n",
        "    \"value\": \"0eGkDOIg2L0zA1mmY.AWUFx3rw2CwBXGNioouFYTMgT8o.BhwFLR.Xl.AAA.0.0.BhwFLR.AWWsr6IhGZY\",\n",
        "    \"id\": 3\n",
        "},\n",
        "{\n",
        "    \"domain\": \".facebook.com\",\n",
        "    \"expirationDate\": 1640086480.506574,\n",
        "    \"hostOnly\": false,\n",
        "    \"httpOnly\": false,\n",
        "    \"name\": \"locale\",\n",
        "    \"path\": \"/\",\n",
        "    \"sameSite\": \"no_restriction\",\n",
        "    \"secure\": true,\n",
        "    \"session\": false,\n",
        "    \"storeId\": \"0\",\n",
        "    \"value\": \"en_US\",\n",
        "    \"id\": 4\n",
        "},\n",
        "{\n",
        "    \"domain\": \".facebook.com\",\n",
        "    \"hostOnly\": false,\n",
        "    \"httpOnly\": false,\n",
        "    \"name\": \"m_pixel_ratio\",\n",
        "    \"path\": \"/\",\n",
        "    \"sameSite\": \"unspecified\",\n",
        "    \"secure\": true,\n",
        "    \"session\": true,\n",
        "    \"storeId\": \"0\",\n",
        "    \"value\": \"1\",\n",
        "    \"id\": 5\n",
        "},\n",
        "{\n",
        "    \"domain\": \".facebook.com\",\n",
        "    \"hostOnly\": false,\n",
        "    \"httpOnly\": false,\n",
        "    \"name\": \"presence\",\n",
        "    \"path\": \"/\",\n",
        "    \"sameSite\": \"unspecified\",\n",
        "    \"secure\": true,\n",
        "    \"session\": true,\n",
        "    \"storeId\": \"0\",\n",
        "    \"value\": \"C%7B%22t3%22%3A%5B%5D%2C%22utc3%22%3A1639986198548%2C%22v%22%3A1%7D\",\n",
        "    \"id\": 6\n",
        "},\n",
        "{\n",
        "    \"domain\": \".facebook.com\",\n",
        "    \"expirationDate\": 1702553947.664819,\n",
        "    \"hostOnly\": false,\n",
        "    \"httpOnly\": true,\n",
        "    \"name\": \"sb\",\n",
        "    \"path\": \"/\",\n",
        "    \"sameSite\": \"no_restriction\",\n",
        "    \"secure\": true,\n",
        "    \"session\": false,\n",
        "    \"storeId\": \"0\",\n",
        "    \"value\": \"P5O3YKz9w9O4hpJpgIRZ46OK\",\n",
        "    \"id\": 7\n",
        "},\n",
        "{\n",
        "    \"domain\": \".facebook.com\",\n",
        "    \"expirationDate\": 1640338600,\n",
        "    \"hostOnly\": false,\n",
        "    \"httpOnly\": false,\n",
        "    \"name\": \"wd\",\n",
        "    \"path\": \"/\",\n",
        "    \"sameSite\": \"lax\",\n",
        "    \"secure\": true,\n",
        "    \"session\": false,\n",
        "    \"storeId\": \"0\",\n",
        "    \"value\": \"1349x651\",\n",
        "    \"id\": 8\n",
        "},\n",
        "{\n",
        "    \"domain\": \".facebook.com\",\n",
        "    \"hostOnly\": false,\n",
        "    \"httpOnly\": false,\n",
        "    \"name\": \"x-referer\",\n",
        "    \"path\": \"/\",\n",
        "    \"sameSite\": \"no_restriction\",\n",
        "    \"secure\": true,\n",
        "    \"session\": true,\n",
        "    \"storeId\": \"0\",\n",
        "    \"value\": \"eyJyIjoiL2licmFoaW1JbXBvcnRlZC8iLCJoIjoiL2licmFoaW1JbXBvcnRlZC8iLCJzIjoibSJ9\",\n",
        "    \"id\": 9\n",
        "},\n",
        "{\n",
        "    \"domain\": \".facebook.com\",\n",
        "    \"expirationDate\": 1671530006.820076,\n",
        "    \"hostOnly\": false,\n",
        "    \"httpOnly\": true,\n",
        "    \"name\": \"xs\",\n",
        "    \"path\": \"/\",\n",
        "    \"sameSite\": \"no_restriction\",\n",
        "    \"secure\": true,\n",
        "    \"session\": false,\n",
        "    \"storeId\": \"0\",\n",
        "    \"value\": \"37%3AyXU38arEF2iSNQ%3A2%3A1639481998%3A-1%3A-1%3A%3AAcWj8n8TnMACG38msYmhupxCRf4dcF37Mtf3_7QUYyY\",\n",
        "    \"id\": 10\n",
        "}\n",
        "]\"\"\"\n",
        "\n",
        "with open(\"/content/cookies.txt\",\"w+\") as f:\n",
        "  f.writelines(x)"
      ],
      "metadata": {
        "id": "EUr--HVCOBFk"
      },
      "execution_count": 3,
      "outputs": []
    },
    {
      "cell_type": "code",
      "source": [
        "!pip install tldextract "
      ],
      "metadata": {
        "id": "JEnndiin_YKC",
        "colab": {
          "base_uri": "https://localhost:8080/"
        },
        "outputId": "6b21c7cc-0dae-4c50-aeee-3cc1f6168d31"
      },
      "execution_count": 4,
      "outputs": [
        {
          "output_type": "stream",
          "name": "stdout",
          "text": [
            "Collecting tldextract\n",
            "  Downloading tldextract-3.1.2-py2.py3-none-any.whl (87 kB)\n",
            "\u001b[?25l\r\u001b[K     |███▊                            | 10 kB 18.1 MB/s eta 0:00:01\r\u001b[K     |███████▌                        | 20 kB 19.4 MB/s eta 0:00:01\r\u001b[K     |███████████▎                    | 30 kB 11.6 MB/s eta 0:00:01\r\u001b[K     |███████████████                 | 40 kB 9.7 MB/s eta 0:00:01\r\u001b[K     |██████████████████▉             | 51 kB 4.5 MB/s eta 0:00:01\r\u001b[K     |██████████████████████▋         | 61 kB 4.6 MB/s eta 0:00:01\r\u001b[K     |██████████████████████████▍     | 71 kB 5.0 MB/s eta 0:00:01\r\u001b[K     |██████████████████████████████  | 81 kB 5.6 MB/s eta 0:00:01\r\u001b[K     |████████████████████████████████| 87 kB 2.8 MB/s \n",
            "\u001b[?25hRequirement already satisfied: filelock>=3.0.8 in /usr/local/lib/python3.7/dist-packages (from tldextract) (3.4.0)\n",
            "Requirement already satisfied: idna in /usr/local/lib/python3.7/dist-packages (from tldextract) (2.10)\n",
            "Collecting requests-file>=1.4\n",
            "  Downloading requests_file-1.5.1-py2.py3-none-any.whl (3.7 kB)\n",
            "Requirement already satisfied: requests>=2.1.0 in /usr/local/lib/python3.7/dist-packages (from tldextract) (2.23.0)\n",
            "Requirement already satisfied: certifi>=2017.4.17 in /usr/local/lib/python3.7/dist-packages (from requests>=2.1.0->tldextract) (2021.10.8)\n",
            "Requirement already satisfied: urllib3!=1.25.0,!=1.25.1,<1.26,>=1.21.1 in /usr/local/lib/python3.7/dist-packages (from requests>=2.1.0->tldextract) (1.24.3)\n",
            "Requirement already satisfied: chardet<4,>=3.0.2 in /usr/local/lib/python3.7/dist-packages (from requests>=2.1.0->tldextract) (3.0.4)\n",
            "Requirement already satisfied: six in /usr/local/lib/python3.7/dist-packages (from requests-file>=1.4->tldextract) (1.15.0)\n",
            "Installing collected packages: requests-file, tldextract\n",
            "Successfully installed requests-file-1.5.1 tldextract-3.1.2\n"
          ]
        }
      ]
    },
    {
      "cell_type": "code",
      "source": [
        "!pip install facebook_scraper"
      ],
      "metadata": {
        "id": "qTK-vsLo7Y8b",
        "colab": {
          "base_uri": "https://localhost:8080/"
        },
        "outputId": "543251c3-83a5-4a49-f568-e84da9ba2e92"
      },
      "execution_count": null,
      "outputs": [
        {
          "output_type": "stream",
          "name": "stdout",
          "text": [
            "Collecting facebook_scraper\n",
            "  Downloading facebook_scraper-0.2.50-py3-none-any.whl (38 kB)\n",
            "Collecting browser-cookie3<0.14.0,>=0.13.0\n",
            "  Downloading browser-cookie3-0.13.0.tar.gz (9.4 kB)\n",
            "Collecting demjson3<4.0.0,>=3.0.5\n",
            "  Downloading demjson3-3.0.5.tar.gz (132 kB)\n",
            "\u001b[K     |████████████████████████████████| 132 kB 6.7 MB/s \n",
            "\u001b[?25hCollecting dateparser<2.0.0,>=1.0.0\n",
            "  Downloading dateparser-1.1.0-py2.py3-none-any.whl (288 kB)\n",
            "\u001b[K     |████████████████████████████████| 288 kB 38.7 MB/s \n",
            "\u001b[?25hCollecting requests-html<0.11.0,>=0.10.0\n",
            "  Downloading requests_html-0.10.0-py3-none-any.whl (13 kB)\n",
            "Collecting pyaes\n",
            "  Downloading pyaes-1.6.1.tar.gz (28 kB)\n",
            "Collecting pbkdf2\n",
            "  Downloading pbkdf2-1.3.tar.gz (6.4 kB)\n",
            "Collecting keyring\n",
            "  Downloading keyring-23.4.0-py3-none-any.whl (33 kB)\n",
            "Collecting lz4\n",
            "  Downloading lz4-3.1.10-cp37-cp37m-manylinux2010_x86_64.whl (1.8 MB)\n",
            "\u001b[K     |████████████████████████████████| 1.8 MB 37.8 MB/s \n",
            "\u001b[?25hCollecting pycryptodome\n",
            "  Downloading pycryptodome-3.12.0-cp35-abi3-manylinux2010_x86_64.whl (2.0 MB)\n",
            "\u001b[K     |████████████████████████████████| 2.0 MB 40.9 MB/s \n",
            "\u001b[?25hCollecting SecretStorage\n",
            "  Downloading SecretStorage-3.3.1-py3-none-any.whl (15 kB)\n",
            "Requirement already satisfied: tzlocal in /usr/local/lib/python3.7/dist-packages (from dateparser<2.0.0,>=1.0.0->facebook_scraper) (1.5.1)\n",
            "Requirement already satisfied: pytz in /usr/local/lib/python3.7/dist-packages (from dateparser<2.0.0,>=1.0.0->facebook_scraper) (2018.9)\n",
            "Requirement already satisfied: regex!=2019.02.19,!=2021.8.27 in /usr/local/lib/python3.7/dist-packages (from dateparser<2.0.0,>=1.0.0->facebook_scraper) (2019.12.20)\n",
            "Requirement already satisfied: python-dateutil in /usr/local/lib/python3.7/dist-packages (from dateparser<2.0.0,>=1.0.0->facebook_scraper) (2.8.2)\n",
            "Collecting pyquery\n",
            "  Downloading pyquery-1.4.3-py3-none-any.whl (22 kB)\n",
            "Collecting w3lib\n",
            "  Downloading w3lib-1.22.0-py2.py3-none-any.whl (20 kB)\n",
            "Requirement already satisfied: bs4 in /usr/local/lib/python3.7/dist-packages (from requests-html<0.11.0,>=0.10.0->facebook_scraper) (0.0.1)\n",
            "Collecting fake-useragent\n",
            "  Downloading fake-useragent-0.1.11.tar.gz (13 kB)\n",
            "Requirement already satisfied: requests in /usr/local/lib/python3.7/dist-packages (from requests-html<0.11.0,>=0.10.0->facebook_scraper) (2.23.0)\n",
            "Collecting pyppeteer>=0.0.14\n",
            "  Downloading pyppeteer-0.2.6-py3-none-any.whl (83 kB)\n",
            "\u001b[K     |████████████████████████████████| 83 kB 2.2 MB/s \n",
            "\u001b[?25hCollecting parse\n",
            "  Downloading parse-1.19.0.tar.gz (30 kB)\n",
            "Requirement already satisfied: tqdm<5.0.0,>=4.42.1 in /usr/local/lib/python3.7/dist-packages (from pyppeteer>=0.0.14->requests-html<0.11.0,>=0.10.0->facebook_scraper) (4.62.3)\n",
            "Requirement already satisfied: appdirs<2.0.0,>=1.4.3 in /usr/local/lib/python3.7/dist-packages (from pyppeteer>=0.0.14->requests-html<0.11.0,>=0.10.0->facebook_scraper) (1.4.4)\n",
            "Requirement already satisfied: importlib-metadata>=1.4 in /usr/local/lib/python3.7/dist-packages (from pyppeteer>=0.0.14->requests-html<0.11.0,>=0.10.0->facebook_scraper) (4.8.2)\n",
            "Collecting pyee<9.0.0,>=8.1.0\n",
            "  Downloading pyee-8.2.2-py2.py3-none-any.whl (12 kB)\n",
            "Collecting websockets<10.0,>=9.1\n",
            "  Downloading websockets-9.1-cp37-cp37m-manylinux2010_x86_64.whl (103 kB)\n",
            "\u001b[K     |████████████████████████████████| 103 kB 41.7 MB/s \n",
            "\u001b[?25hCollecting urllib3<2.0.0,>=1.25.8\n",
            "  Downloading urllib3-1.26.7-py2.py3-none-any.whl (138 kB)\n",
            "\u001b[K     |████████████████████████████████| 138 kB 35.9 MB/s \n",
            "\u001b[?25hRequirement already satisfied: typing-extensions>=3.6.4 in /usr/local/lib/python3.7/dist-packages (from importlib-metadata>=1.4->pyppeteer>=0.0.14->requests-html<0.11.0,>=0.10.0->facebook_scraper) (3.10.0.2)\n",
            "Requirement already satisfied: zipp>=0.5 in /usr/local/lib/python3.7/dist-packages (from importlib-metadata>=1.4->pyppeteer>=0.0.14->requests-html<0.11.0,>=0.10.0->facebook_scraper) (3.6.0)\n",
            "Requirement already satisfied: beautifulsoup4 in /usr/local/lib/python3.7/dist-packages (from bs4->requests-html<0.11.0,>=0.10.0->facebook_scraper) (4.6.3)\n",
            "Collecting jeepney>=0.4.2\n",
            "  Downloading jeepney-0.7.1-py3-none-any.whl (54 kB)\n",
            "\u001b[K     |████████████████████████████████| 54 kB 2.1 MB/s \n",
            "\u001b[?25hCollecting cryptography>=2.0\n",
            "  Downloading cryptography-36.0.1-cp36-abi3-manylinux_2_24_x86_64.whl (3.6 MB)\n",
            "\u001b[K     |████████████████████████████████| 3.6 MB 34.3 MB/s \n",
            "\u001b[?25hRequirement already satisfied: cffi>=1.12 in /usr/local/lib/python3.7/dist-packages (from cryptography>=2.0->SecretStorage->browser-cookie3<0.14.0,>=0.13.0->facebook_scraper) (1.15.0)\n",
            "Requirement already satisfied: pycparser in /usr/local/lib/python3.7/dist-packages (from cffi>=1.12->cryptography>=2.0->SecretStorage->browser-cookie3<0.14.0,>=0.13.0->facebook_scraper) (2.21)\n",
            "Requirement already satisfied: lxml>=2.1 in /usr/local/lib/python3.7/dist-packages (from pyquery->requests-html<0.11.0,>=0.10.0->facebook_scraper) (4.2.6)\n",
            "Collecting cssselect>0.7.9\n",
            "  Downloading cssselect-1.1.0-py2.py3-none-any.whl (16 kB)\n",
            "Requirement already satisfied: six>=1.5 in /usr/local/lib/python3.7/dist-packages (from python-dateutil->dateparser<2.0.0,>=1.0.0->facebook_scraper) (1.15.0)\n",
            "Requirement already satisfied: idna<3,>=2.5 in /usr/local/lib/python3.7/dist-packages (from requests->requests-html<0.11.0,>=0.10.0->facebook_scraper) (2.10)\n",
            "Requirement already satisfied: certifi>=2017.4.17 in /usr/local/lib/python3.7/dist-packages (from requests->requests-html<0.11.0,>=0.10.0->facebook_scraper) (2021.10.8)\n",
            "Collecting urllib3<2.0.0,>=1.25.8\n",
            "  Downloading urllib3-1.25.11-py2.py3-none-any.whl (127 kB)\n",
            "\u001b[K     |████████████████████████████████| 127 kB 32.5 MB/s \n",
            "\u001b[?25hRequirement already satisfied: chardet<4,>=3.0.2 in /usr/local/lib/python3.7/dist-packages (from requests->requests-html<0.11.0,>=0.10.0->facebook_scraper) (3.0.4)\n",
            "Building wheels for collected packages: browser-cookie3, demjson3, fake-useragent, parse, pbkdf2, pyaes\n",
            "  Building wheel for browser-cookie3 (setup.py) ... \u001b[?25l\u001b[?25hdone\n",
            "  Created wheel for browser-cookie3: filename=browser_cookie3-0.13.0-py3-none-any.whl size=8002 sha256=75ae57e0d1868ee80dcc0eef57b833366fce761bfa9a78d5aae0b0b087e03453\n",
            "  Stored in directory: /root/.cache/pip/wheels/b6/c3/49/b4b8995fe98bce9592770ed77dfb8e1e22c0174348626053da\n",
            "  Building wheel for demjson3 (setup.py) ... \u001b[?25l\u001b[?25hdone\n",
            "  Created wheel for demjson3: filename=demjson3-3.0.5-py3-none-any.whl size=76070 sha256=496f6eac6fd9c28fce7621fc68db556399e86ddf4a2e46a16e536c8bdae58989\n",
            "  Stored in directory: /root/.cache/pip/wheels/c1/8b/a2/29e1cb2a9a3a27a5cfe8a57856a3310ea1e3c0a394eee8db61\n",
            "  Building wheel for fake-useragent (setup.py) ... \u001b[?25l\u001b[?25hdone\n",
            "  Created wheel for fake-useragent: filename=fake_useragent-0.1.11-py3-none-any.whl size=13502 sha256=d46326e065370f1c559c4f43f3dae95fb63546eea09b3211be617ff250bad5cc\n",
            "  Stored in directory: /root/.cache/pip/wheels/ed/f7/62/50ab6c9a0b5567267ab76a9daa9d06315704209b2c5d032031\n",
            "  Building wheel for parse (setup.py) ... \u001b[?25l\u001b[?25hdone\n",
            "  Created wheel for parse: filename=parse-1.19.0-py3-none-any.whl size=24591 sha256=7124b49fb809c7f88deae4c16cae388c5582671667b39f9efaeada8010e62290\n",
            "  Stored in directory: /root/.cache/pip/wheels/9c/aa/cc/f2228050ccb40f22144b073f15a2c84f11204f29fc0dce028e\n",
            "  Building wheel for pbkdf2 (setup.py) ... \u001b[?25l\u001b[?25hdone\n",
            "  Created wheel for pbkdf2: filename=pbkdf2-1.3-py3-none-any.whl size=5103 sha256=ee040a8e64f02bdcbffbcdeeaf94f497f154bb88588cb7a5abe5bd246386a19c\n",
            "  Stored in directory: /root/.cache/pip/wheels/49/16/ea/daca297d70ee0782ac6e16e83b2c55b2ca42a2113750bc0489\n",
            "  Building wheel for pyaes (setup.py) ... \u001b[?25l\u001b[?25hdone\n",
            "  Created wheel for pyaes: filename=pyaes-1.6.1-py3-none-any.whl size=26362 sha256=07bf61c5b8a3016c00f000b97265992db3ea6625ad610cb178f54ae1df91ffbc\n",
            "  Stored in directory: /root/.cache/pip/wheels/42/a3/7d/73d60820adb58d818179cdec3fc1be66f6f7453513a3ff0b05\n",
            "Successfully built browser-cookie3 demjson3 fake-useragent parse pbkdf2 pyaes\n",
            "Installing collected packages: jeepney, cryptography, websockets, urllib3, SecretStorage, pyee, cssselect, w3lib, pyquery, pyppeteer, pycryptodome, pyaes, pbkdf2, parse, lz4, keyring, fake-useragent, requests-html, demjson3, dateparser, browser-cookie3, facebook-scraper\n",
            "  Attempting uninstall: urllib3\n",
            "    Found existing installation: urllib3 1.24.3\n",
            "    Uninstalling urllib3-1.24.3:\n",
            "      Successfully uninstalled urllib3-1.24.3\n",
            "\u001b[31mERROR: pip's dependency resolver does not currently take into account all the packages that are installed. This behaviour is the source of the following dependency conflicts.\n",
            "datascience 0.10.6 requires folium==0.2.1, but you have folium 0.8.3 which is incompatible.\u001b[0m\n",
            "Successfully installed SecretStorage-3.3.1 browser-cookie3-0.13.0 cryptography-36.0.1 cssselect-1.1.0 dateparser-1.1.0 demjson3-3.0.5 facebook-scraper-0.2.50 fake-useragent-0.1.11 jeepney-0.7.1 keyring-23.4.0 lz4-3.1.10 parse-1.19.0 pbkdf2-1.3 pyaes-1.6.1 pycryptodome-3.12.0 pyee-8.2.2 pyppeteer-0.2.6 pyquery-1.4.3 requests-html-0.10.0 urllib3-1.25.11 w3lib-1.22.0 websockets-9.1\n"
          ]
        }
      ]
    },
    {
      "cell_type": "code",
      "source": [
        "!pip install redis"
      ],
      "metadata": {
        "id": "lKX-78Cm8UZZ",
        "colab": {
          "base_uri": "https://localhost:8080/"
        },
        "outputId": "c24d7592-64ea-4101-f4b7-e9393b8b1e5f"
      },
      "execution_count": null,
      "outputs": [
        {
          "output_type": "stream",
          "name": "stdout",
          "text": [
            "Collecting redis\n",
            "  Downloading redis-4.0.2-py3-none-any.whl (119 kB)\n",
            "\u001b[?25l\r\u001b[K     |██▊                             | 10 kB 19.6 MB/s eta 0:00:01\r\u001b[K     |█████▌                          | 20 kB 10.1 MB/s eta 0:00:01\r\u001b[K     |████████▏                       | 30 kB 6.7 MB/s eta 0:00:01\r\u001b[K     |███████████                     | 40 kB 3.5 MB/s eta 0:00:01\r\u001b[K     |█████████████▊                  | 51 kB 4.0 MB/s eta 0:00:01\r\u001b[K     |████████████████▍               | 61 kB 4.5 MB/s eta 0:00:01\r\u001b[K     |███████████████████▏            | 71 kB 4.5 MB/s eta 0:00:01\r\u001b[K     |██████████████████████          | 81 kB 5.0 MB/s eta 0:00:01\r\u001b[K     |████████████████████████▋       | 92 kB 4.9 MB/s eta 0:00:01\r\u001b[K     |███████████████████████████▍    | 102 kB 4.1 MB/s eta 0:00:01\r\u001b[K     |██████████████████████████████▏ | 112 kB 4.1 MB/s eta 0:00:01\r\u001b[K     |████████████████████████████████| 119 kB 4.1 MB/s \n",
            "\u001b[?25hCollecting deprecated\n",
            "  Downloading Deprecated-1.2.13-py2.py3-none-any.whl (9.6 kB)\n",
            "Requirement already satisfied: wrapt<2,>=1.10 in /usr/local/lib/python3.7/dist-packages (from deprecated->redis) (1.13.3)\n",
            "Installing collected packages: deprecated, redis\n",
            "Successfully installed deprecated-1.2.13 redis-4.0.2\n"
          ]
        }
      ]
    },
    {
      "cell_type": "code",
      "source": [
        "from googlesearch import search\n",
        "import tldextract\n",
        "import time\n",
        "import random\n",
        "import redis\n",
        "from facebook_scraper import get_posts\n",
        "DB3 = redis.Redis(host='43.251.253.107', port=1500, db=3)\n",
        "DB2 = redis.Redis(host='43.251.253.107', port=1500, db=2)\n",
        "# import pymongo\n",
        "# myclient = pymongo.MongoClient(\"mongodb://43.251.253.107:1600/\")\n",
        "# mydb = myclient['GoogleFBscraper2-Bilal']\n",
        "# mycol = mydb['Allposts']"
      ],
      "metadata": {
        "id": "V9SO1y9qqhex"
      },
      "execution_count": null,
      "outputs": []
    },
    {
      "cell_type": "code",
      "source": [
        "# read sets' keys from redis and decode\n",
        "sitenames_list = []\n",
        "for keyb in DB2.scan_iter():\n",
        "  # print(keyb)\n",
        "  keyS = keyb.decode(\"utf-8\")\n",
        "  sitenames_list.append(keyS)# read all the keys from redis into python list\n",
        "  # masterDB.spop(key1)# loop over the above list and delete each entry from redis\n",
        "print(sitenames_list)#simple strings inside list, NOT byte"
      ],
      "metadata": {
        "id": "-qXRd3far52M",
        "colab": {
          "base_uri": "https://localhost:8080/"
        },
        "outputId": "bf4f9012-6ccb-4df8-e7ab-21592324542e"
      },
      "execution_count": null,
      "outputs": [
        {
          "output_type": "stream",
          "name": "stdout",
          "text": [
            "['campusbuzz.blog', 'gpsinsight.com', 'shutterstock.com', 'gorgeouslyflawed.com', 'blackmagicdesign.com', 'hoonigan.com', 'humbuckersoup.com', 'killerstartups.com', 'pathwayscg.com', '41jellis.medium.com', 'offgridspot.com', 'riverjournalonline.com', 'albomadventures.com', 'unamhe.or.ug', 'hammerhead.io', 'colleaguestories.coop.co.uk', 'voices.berkeley.edu', 'pfudge.com', 'borderlore.org', 'diymorning.com', 'whicherridge.com.au', 'aocuk.net', 'roomtothrive.com', 'sott.net', 'foodallergycanada.ca', 'airhockeytablereviews.com', 'kulanpost.co.ke', 'bakerbettie.com', 'taskade.com', 'thezimtainment.co.zw', 'congressheightsontherise.com', 'ahaparenting.com', 'forka.us', 'blog.fontawesome.com', 'preview.houstonchronicle.com', 'iconichairdressing.com', 'masterlineusa.com', 'bearfoottheory.com', 'vsktelangana.org', 'lifechangesnetwork.com', 'izea.com', 'lockhart-meyer.co.uk', 'curtismchale.ca', 'purpleplayasfoundation.org', 'leaf-architecture.co.uk', 'thelegacyofjohnwilliams.com', 'nysed.gov', 'blog.retireready.com', 'dnalounge.com', 'visitaruba.com', 'indy100.com', 'danelec-marine.com', 'avworx.net', 'laramoneta.com', 'infigic.com', 'organichomeremedies.com', 'thesolemates.com', 'pfhstheroar.com', 'rollinghillscoop.com', 'best-free-online-dating-service.com', 'windowsreport.com', 'oaspa.org', 'healthreporters.info', 'discountbookman.com', 'baltimorepostexaminer.com', 'privatelabelwholesale.com', 'lowinablackman.com.au', 'naturalproductsglobal.com', 'llifs.com.au', 'vancouverpublicspace.ca', 'misssmartyplants.com', 'mail4rosey.com', 'rackham.umich.edu', 'tmj4.com', 'blog.tms.edu', 'bathroomexhaustfanswithlight.com', 'smemagazine.asia', 'homemadelovely.com', 'blogwithvk.com', 'stolenandmissingpetsalliance.co.uk', '8list.ph', 'laseraid.com.au', 'wedentist.com', 'danmarcappliance.com', 'finewal.com', 'mic.com', 'crosswordsltd.com', 'vncoupon.com', 'dreamplanlive.com', 'platinumelectricians.com.au', 'soapoperanews.net', 'crystalgraphic.com', 'kbeautycafe.com.ph', 'songsofjoy.org', 'kelloughdmd.com', 'firstfocus.org', 'weareplanc.org', 'lifecarediagnostic.com', 'allergicliving.com', 'cabiotech.org', 'ahvalnews.com', 'silverbackpacker.com', 'greenloungechairsonline.com', 'quillgroup.com.au', 'daysinbed.com', 'mspluxurylimo.com', 'forcescompare.uk', 'radioandmusic.com', 'moondoglabs.com', 'katrinawilsonphotography.co.uk', 'blog.scistarter.com', 'blog.easi.net', 'onlinehomedesignblog.com', 'lostindiana.net', 'sbpdiscovery.org', 'labouroutlook.org', 'blog.thecodegalaxy.com', 'sabkadentist.com', 'masterclasscabinets.com.au', 'rockpapershotgun.com', 'peaknutritionalproducts.com', 'roydennis.org', 'shorebox.co.uk', 'sodiumbreakup.heart.org', 'andriedesigns.com', 'dennisondampier.com', 'sedonaaromatics.com', 'rocheawnings.com', 'northstarmeetingsgroup.com', 'holeinthedonut.com', 'chagrinvalleysoapandsalve.com', 'veritashc.org', 'completesports.com', 'notdeadyetstyle.com', 'myuniquehome.co.uk', 'supperplate.com', 'blog.lifeextension.com', 'skinnytaste.com', 'commonwealthjoe.com', 'barrett-jackson.com', 'blueridgeoutdoors.com', 'schumachercollege.org.uk', 'viralnation.com', 'healingfamilyeats.com', 'timesdirect.tv', 'pri.org', 'eastbaytimes.com', 'waxspecialists.com', 'estefannie.com', 'drlaurakelly.com', 'mccaininstitute.org', 'ieskincare.com', 'kavishapharma.com', 'knowledgequest.aasl.org', 'keralpatel.com', 'exponentialimpact.com', 'getuperica.com', 'excelsiorlimo.com', 'mediebyraaforeningen.no', 'calloftheforest.ca', 'martinezgazette.com', 'blog.txpowersports.com', 'eyebulletin.com', 'msccollege.edu', 'theappideas.com', 'thinkingnutrition.com.au', 'kooricurriculum.com', 'officialhacker.com', 'goodnessdental.com', 'redappletech.com', 'franklinrae.com', 'helenwashington.com', 'wheresheworks.com', 'lasvegas.cbslocal.com', 'etftrends.com', 'homeongrangehallroad.com', 'ratemyrave.com', 'getacoffeemaker.com', 'owegopennysaver.com', 'news.kgnu.org', 'davidmcguire.com', 'ictevangelist.com', 'cc-pl.org', 'seeingtheworldinsteps.com', 'lemondnutrition.com', 'blackgirlnerds.com', 'perrykeywest.com', 'colemanconcierge.com', 'soranews24.com', 'blog.ninjavan.co', 'endangered.org', 'limpbizkitsongs.com', 'talkgaza.com', 'blog.deteact.com', 'southernladymagazine.com', 'lefkovitz.com', 'theforexarmy.com', 'painshill.co.uk', 'konachocolatefestival.com', 'thefreckle.blog', 'ctbythenumbers.news', 'sportfishingmag.com', 'ninasapartment.com', 'studio-mcgee.com', 'rockvalleypt.com', 'arbitrarilyclose.com', 'genericcialistc.com', 'internationaldentistcentral.com', 'web-peppers.com', 'inflcr.com', 'yourhealthwellnesscentre.com', 'urbana.ie', 'smartclassroommanagement.com', 'dbgidoon.ac.in', 'frieddandelions.com', 'findingcoopersvoice.com', 'lynnebuchanan.com', 'grandriverraceway.com', 'gtmetrix.com', 'designedsimple.com', 'lifeatthevineyards.org', 'creaturecoffee.co', 'claudiograss.ch', 'outbreaknewstoday.com', 'retirefabulously.com', 'telecompetitor.com', 'crownpeak.com', 'bradykoch.com', 'protectingwealth.com', 'thebridge.in', 'wowebook.org', 'tmjhope.org', 'urbanintellectuals.com', 'faberlic-zp.com', 'stabroeknews.com', 'iecn.com', 'salkantaytrekking.com', 'irandll.com', 'janathangrace.org', 'arenaeyesurgeons.com', 'travelwithsandi.com', 'biblica.com', 'vanguardlawmag.com', 'andersenwm.com', 'blog.icihomes.com', 'shoneys.com', 'edwardjohnsonstudio.co.uk', 'design.lsu.edu', 'entrevestor.com', 'beer-chronicles.com', 'blavity.com', 'peanutsorpretzels.com', 'destinature.ca', 'dimebagdarrell.com', 'autoconnectedcar.com', 'socialtrendsph.net', 'corporettemoms.com', 'momwithstyle.com', 'patiencerandle.com', 'c4israel.org', 'thestemmum.com', 'healthcarefinancenews.com', 'sagepointcare.org', 'dusted.codes', 'dtn.com', 'erj.ersjournals.com', 'landcruisingadventure.com', 'internationalintegrative.com', 'blog.vidalung.ai', 'sedulo.co.uk', 'kodeks-polski.pl', 'westa.org', 'bosguy.com', 'fillingmymap.com', 'andybateschef.com', 'shooting-performance.com', 'techychennai.com', 'summercushman.com', 'typotheque.com', 'allabouttherock.co.uk', 'universaldiscus.com', 'sourceamerica.org', 'annmackay.blog', 'thewoodgraincottage.com', 'vivantskincare.com', 'papercranetattoo.com', 'loansline24.com', 'emmock.com', 'tylergaw.com', 'babyhighchair-reviews.com', 'ssnet.org', 'hsifurniture.co.uk', 'counterpointresearch.com', 'leitnerconstruction.com', 'birkenheadmonumental.co.uk', 'countryhouse.net', 'webtopnews.com', 'coronetrealtyltd.com', 'positiveparentshavering.org.uk', 'wames.org.uk', 'derrickriches.com', 'pentins.co.uk', 'aikenbluegrassfestival.org', 'usebalsamicvinegar.com', 'semidomesticated.com', 'longbournfarm.com', 'debbymerickel.com', 'techbuild.africa', 'ahousefullofsunshine.com', '9thlevel.ie', 'wendyforcier.com', 'aesthetx.com', 'southerncountiespetanque.org', 'derm-imaging.org', 'apprisen.com', 'sandiegofoodfinds.com', 'adamschindler.com', 'plkpathway.com', 'neatnestsdesign.com', 'creswell-crags.org.uk', 'thepetridish.my', 'blog.mobbo.com', 'dtravelsround.com', 'santagertrudis.org', '9jasoundtv.com', 'eyretribune.com.au', 'engineering.vanderbilt.edu', 'laurinburgexchange.com', 'baconsrebellion.com', 'alluringto.com', 'dudeimanaspie.com', 'inkcap.substack.com', 'wyman-services.com', 'ozy.com', 'hastybake.com', 'thehostingjourney.com', 'lymanuniverse.com', 'coastalretreats.co.uk', 'ajddigital.co.uk', 'gisgeography.com', 'findbestseo.com', 'diyprojectsforteens.com', 'allnaijaentertainment.com', 'designingfordementia.eu', 'rubycup.com', 'goodmorninggloucester.com', 'haaretzdaily.com', 'blog.nzhl.co.nz', 'blog.bradleygauthier.com', 'dyingwithdignity.ca', 'stone-dsgns.com', 'dianeravitch.net', 'blog.urbanbarn.com', 'healyeatsreal.com', 'budgetpantry.com', 'health.mil', 'doffandflux.com.au', 'secretsofparis.com', 'geelongindy.com.au', 'practical365.com', 'autokary-warszawa.com', 'peoplemattersglobal.com', 'bondsescaperoom.com', 'abqjournal.com', 'voiceoflisabrandt.com', 'gizmohomecraft.com', 'kjrose.blog', 'blindfieldjournal.com', 'recetasparathermomix.com', 'mommybear.org', 'serenityhomestead.com']\n"
          ]
        }
      ]
    },
    {
      "cell_type": "code",
      "source": [
        "# google-search each sitename from the above list\n",
        "urls = []\n",
        "for ttls in sitenames_list:\n",
        "  \n",
        "  try:\n",
        "    resp=search(\"facebook.com \"+ttls, num=2)   \n",
        "    time.sleep(random.randint(5,12))\n",
        "    for link in resp:\n",
        "      childFLD=tldextract.extract(link)\n",
        "      childFLD=childFLD.domain\n",
        "      if childFLD==\"facebook\":\n",
        "        try:\n",
        "          print(link)\n",
        "          pageNames = link.split('/')[3].strip()\n",
        "          # pageNames = link.split('/')[2:3]use either\n",
        "          print(pageNames)\n",
        "          DB3.sadd(pageNames,'Unique Page Name') # insert the extracted unique fb page name into redis DB-3\n",
        "          DB2.delete(ttls) # in the for loop of list from redis after finding unique page name on google, delete that particular key of sitename from DB-2\n",
        "        except Exception as e:\n",
        "          print(e)\n",
        "          break\n",
        "        break\n",
        "  except Exception as e:\n",
        "    print(e)\n",
        "    break\n",
        "# make sure that the key(s) is deleted from DB-0 only when a succesful unique Fb page name is found.\n",
        "# make sure when google blocks us the program should enddddd\n",
        "# this concept is state management in DB-0 "
      ],
      "metadata": {
        "colab": {
          "base_uri": "https://localhost:8080/"
        },
        "id": "5o3TV4ApsKDH",
        "outputId": "607c7552-39a5-4422-a41f-d0728befe622"
      },
      "execution_count": null,
      "outputs": [
        {
          "output_type": "stream",
          "name": "stdout",
          "text": [
            "https://www.facebook.com/Campusbuzzgh/\n",
            "Campusbuzzgh\n",
            "https://www.facebook.com/GPSINSIGHT/\n",
            "GPSINSIGHT\n",
            "https://www.facebook.com/\n",
            "\n",
            "https://www.facebook.com/\n",
            "\n",
            "https://www.facebook.com/BlackmagicDesignOfficial/\n",
            "BlackmagicDesignOfficial\n",
            "https://www.facebook.com/TheHoonigans/\n",
            "TheHoonigans\n",
            "https://www.facebook.com/\n",
            "\n",
            "https://www.facebook.com/KillerStartups/\n",
            "KillerStartups\n",
            "https://www.facebook.com/\n",
            "\n",
            "https://www.facebook.com/medium/\n",
            "medium\n",
            "https://www.facebook.com/\n",
            "\n"
          ]
        }
      ]
    },
    {
      "cell_type": "code",
      "source": [
        "# # read sets' keys from redis DB1 and decode\n",
        "# for keyb1 in DB1.scan_iter():\n",
        "#   print(keyb1)\n",
        "#   keyS1 = keyb1.decode(\"utf-8\")\n",
        "#   urls.append(keyS1)# read all the keys from redis into python list\n",
        "#   # masterDB.spop(key1)# loop over the above list and delete each entry from redis\n",
        "# print(urls)#simple strings inside list, NOT byte from DB1"
      ],
      "metadata": {
        "id": "sK7eHjCkJ-sp"
      },
      "execution_count": null,
      "outputs": []
    },
    {
      "cell_type": "code",
      "source": [
        "# # fb urls to extract posts data and upload on DB-1\n",
        "# fields = ('comments','link','likes','images','shared_time','text','post_id','reactions','shares','user_id','time','timestamp','time')\n",
        "# # fbPages = ('ABCNews','cnn','NBCNews','mlive','TheIndependentOnline','thedailybeast','WashingtonExaminer','Gawker','Upworthy','chroncom','Slate','bleacherreport','EliteDaily','washingtonpost','DailyMail','nytimes','BuzzFeed','usatoday','CBSNews','HuffPost')\n",
        "# for fbp in urls:\n",
        "#   try:\n",
        "#     for post in get_posts(fbp, pages= 3,cookies= 'cookies.txt'):\n",
        "#       collection = {'pageName':fbp}    \n",
        "#       for items in fields:\n",
        "#         collection[items] = (post[items])\n",
        "#         # DB2.hset(fbp,items,post[items])\n",
        "#       x = mycol.insert_one(collection) \n",
        "#   except Exception as e:\n",
        "#     print(e)"
      ],
      "metadata": {
        "id": "AB-GMTpdGBz6"
      },
      "execution_count": null,
      "outputs": []
    },
    {
      "cell_type": "code",
      "source": [
        "#read the facebook scraper issues, and find out how to pass the cookies file in json format"
      ],
      "metadata": {
        "id": "HxUgp6uQQ0E3"
      },
      "execution_count": null,
      "outputs": []
    }
  ]
}