{
  "nbformat": 4,
  "nbformat_minor": 0,
  "metadata": {
    "colab": {
      "name": "googleScraper11members.ipynb",
      "provenance": [],
      "collapsed_sections": [],
      "include_colab_link": true
    },
    "kernelspec": {
      "name": "python3",
      "display_name": "Python 3"
    },
    "language_info": {
      "name": "python"
    }
  },
  "cells": [
    {
      "cell_type": "markdown",
      "metadata": {
        "id": "view-in-github",
        "colab_type": "text"
      },
      "source": [
        "<a href=\"https://colab.research.google.com/github/Bilal-Subhopoto/DataEngineering-Bilal/blob/main/googleScraper11members.ipynb\" target=\"_parent\"><img src=\"https://colab.research.google.com/assets/colab-badge.svg\" alt=\"Open In Colab\"/></a>"
      ]
    },
    {
      "cell_type": "code",
      "source": [
        "!pip install redis\n",
        "!pip install tldextract\n",
        "from googlesearch import search\n",
        "import tldextract\n",
        "import time\n",
        "import random\n",
        "import redis"
      ],
      "metadata": {
        "id": "lFdo5vEV-3_L",
        "colab": {
          "base_uri": "https://localhost:8080/"
        },
        "outputId": "2b7f7122-dd03-4659-e885-adeacdad4741"
      },
      "execution_count": null,
      "outputs": [
        {
          "output_type": "stream",
          "name": "stdout",
          "text": [
            "Collecting redis\n",
            "  Downloading redis-4.1.0-py3-none-any.whl (171 kB)\n",
            "\u001b[?25l\r\u001b[K     |██                              | 10 kB 17.9 MB/s eta 0:00:01\r\u001b[K     |███▉                            | 20 kB 23.5 MB/s eta 0:00:01\r\u001b[K     |█████▊                          | 30 kB 19.5 MB/s eta 0:00:01\r\u001b[K     |███████▋                        | 40 kB 15.5 MB/s eta 0:00:01\r\u001b[K     |█████████▌                      | 51 kB 8.5 MB/s eta 0:00:01\r\u001b[K     |███████████▍                    | 61 kB 8.5 MB/s eta 0:00:01\r\u001b[K     |█████████████▍                  | 71 kB 8.7 MB/s eta 0:00:01\r\u001b[K     |███████████████▎                | 81 kB 9.8 MB/s eta 0:00:01\r\u001b[K     |█████████████████▏              | 92 kB 10.0 MB/s eta 0:00:01\r\u001b[K     |███████████████████             | 102 kB 8.1 MB/s eta 0:00:01\r\u001b[K     |█████████████████████           | 112 kB 8.1 MB/s eta 0:00:01\r\u001b[K     |██████████████████████▉         | 122 kB 8.1 MB/s eta 0:00:01\r\u001b[K     |████████████████████████▉       | 133 kB 8.1 MB/s eta 0:00:01\r\u001b[K     |██████████████████████████▊     | 143 kB 8.1 MB/s eta 0:00:01\r\u001b[K     |████████████████████████████▋   | 153 kB 8.1 MB/s eta 0:00:01\r\u001b[K     |██████████████████████████████▌ | 163 kB 8.1 MB/s eta 0:00:01\r\u001b[K     |████████████████████████████████| 171 kB 8.1 MB/s \n",
            "\u001b[?25hRequirement already satisfied: packaging>=21.3 in /usr/local/lib/python3.7/dist-packages (from redis) (21.3)\n",
            "Requirement already satisfied: importlib-metadata>=1.0 in /usr/local/lib/python3.7/dist-packages (from redis) (4.8.2)\n",
            "Collecting deprecated>=1.2.3\n",
            "  Downloading Deprecated-1.2.13-py2.py3-none-any.whl (9.6 kB)\n",
            "Requirement already satisfied: wrapt<2,>=1.10 in /usr/local/lib/python3.7/dist-packages (from deprecated>=1.2.3->redis) (1.13.3)\n",
            "Requirement already satisfied: typing-extensions>=3.6.4 in /usr/local/lib/python3.7/dist-packages (from importlib-metadata>=1.0->redis) (3.10.0.2)\n",
            "Requirement already satisfied: zipp>=0.5 in /usr/local/lib/python3.7/dist-packages (from importlib-metadata>=1.0->redis) (3.6.0)\n",
            "Requirement already satisfied: pyparsing!=3.0.5,>=2.0.2 in /usr/local/lib/python3.7/dist-packages (from packaging>=21.3->redis) (3.0.6)\n",
            "Installing collected packages: deprecated, redis\n",
            "Successfully installed deprecated-1.2.13 redis-4.1.0\n",
            "Collecting tldextract\n",
            "  Downloading tldextract-3.1.2-py2.py3-none-any.whl (87 kB)\n",
            "\u001b[K     |████████████████████████████████| 87 kB 3.9 MB/s \n",
            "\u001b[?25hRequirement already satisfied: idna in /usr/local/lib/python3.7/dist-packages (from tldextract) (2.10)\n",
            "Requirement already satisfied: requests>=2.1.0 in /usr/local/lib/python3.7/dist-packages (from tldextract) (2.23.0)\n",
            "Collecting requests-file>=1.4\n",
            "  Downloading requests_file-1.5.1-py2.py3-none-any.whl (3.7 kB)\n",
            "Requirement already satisfied: filelock>=3.0.8 in /usr/local/lib/python3.7/dist-packages (from tldextract) (3.4.0)\n",
            "Requirement already satisfied: chardet<4,>=3.0.2 in /usr/local/lib/python3.7/dist-packages (from requests>=2.1.0->tldextract) (3.0.4)\n",
            "Requirement already satisfied: urllib3!=1.25.0,!=1.25.1,<1.26,>=1.21.1 in /usr/local/lib/python3.7/dist-packages (from requests>=2.1.0->tldextract) (1.24.3)\n",
            "Requirement already satisfied: certifi>=2017.4.17 in /usr/local/lib/python3.7/dist-packages (from requests>=2.1.0->tldextract) (2021.10.8)\n",
            "Requirement already satisfied: six in /usr/local/lib/python3.7/dist-packages (from requests-file>=1.4->tldextract) (1.15.0)\n",
            "Installing collected packages: requests-file, tldextract\n",
            "Successfully installed requests-file-1.5.1 tldextract-3.1.2\n"
          ]
        }
      ]
    },
    {
      "cell_type": "code",
      "source": [
        "masterDB = redis.Redis(host='43.251.253.107', port=1500, db=11)\n",
        "stateDB = redis.Redis(host='43.251.253.107', port=1500, db=12)\n",
        "# todayDB = redis.Redis(host='43.251.253.107', port=1500, db=13)\n",
        "GResultsDB = redis.Redis(host = '43.251.253.107', port = 1500, db = 13)\n",
        "DB14 = redis.Redis(host = '43.251.253.107', port = 1500, db = 14)\n",
        "# todayDB.flushdb()\n",
        "# GResultsDB.flushdb()"
      ],
      "metadata": {
        "id": "Ei01AZDh9fbr"
      },
      "execution_count": null,
      "outputs": []
    },
    {
      "cell_type": "code",
      "source": [
        "links=stateDB.smembers(\"allurls\")"
      ],
      "metadata": {
        "id": "1OEn17MwKeyM"
      },
      "execution_count": null,
      "outputs": []
    },
    {
      "cell_type": "code",
      "source": [
        "while(1):\n",
        "# we make sure we get random links from the tempdb\n",
        "  # link=stateDB.smembers(\"allurls\") #pick a random value from \"allurls\"\n",
        "  for link in links:\n",
        "    dlink=link.decode(\"utf-8\")\n",
        "    print(dlink)\n",
        "    #www.cnn.com\n",
        "    link=tldextract.extract(dlink)\n",
        "    domain = link.domain\n",
        "    domain = str(domain)\n",
        "    link = str(link)  \n",
        "    print(link)\n",
        "    try:\n",
        "      resp=search(\"facebook.com \"+link, num=10, stop=10)   \n",
        "      time.sleep(random.randint(5,12))\n",
        "      for fblink in resp:\n",
        "        try:\n",
        "          GResultsDB.sadd(domain,fblink)#10 links under one key\n",
        "          DB14.sadd(domain,fblink)\n",
        "          stateDB.srem(\"allurls\",dlink)#remove 'link' member from todayDB\n",
        "          print(fblink)\n",
        "        except Exception as e:\n",
        "          print(e)\n",
        "          break\n",
        "    except Exception as e:\n",
        "      print(e)\n",
        "      break"
      ],
      "metadata": {
        "colab": {
          "base_uri": "https://localhost:8080/",
          "height": 408
        },
        "id": "9RUEVLuTIdpM",
        "outputId": "a3dbcc28-8f66-47ed-8662-7193963f21b5"
      },
      "execution_count": null,
      "outputs": [
        {
          "output_type": "stream",
          "name": "stdout",
          "text": [
            "bellyfatformula.com\n",
            "ExtractResult(subdomain='', domain='bellyfatformula', suffix='com')\n",
            "mytechtalky.com\n",
            "ExtractResult(subdomain='', domain='mytechtalky', suffix='com')\n",
            "2moveabroad.com\n",
            "ExtractResult(subdomain='', domain='2moveabroad', suffix='com')\n",
            "contattolab.it\n",
            "ExtractResult(subdomain='', domain='contattolab', suffix='it')\n",
            "techporn.ph\n",
            "ExtractResult(subdomain='', domain='techporn', suffix='ph')\n"
          ]
        },
        {
          "output_type": "error",
          "ename": "KeyboardInterrupt",
          "evalue": "ignored",
          "traceback": [
            "\u001b[0;31m---------------------------------------------------------------------------\u001b[0m",
            "\u001b[0;31mKeyboardInterrupt\u001b[0m                         Traceback (most recent call last)",
            "\u001b[0;32m<ipython-input-11-019b80d63cd5>\u001b[0m in \u001b[0;36m<module>\u001b[0;34m()\u001b[0m\n\u001b[1;32m     13\u001b[0m     \u001b[0;32mtry\u001b[0m\u001b[0;34m:\u001b[0m\u001b[0;34m\u001b[0m\u001b[0;34m\u001b[0m\u001b[0m\n\u001b[1;32m     14\u001b[0m       \u001b[0mresp\u001b[0m\u001b[0;34m=\u001b[0m\u001b[0msearch\u001b[0m\u001b[0;34m(\u001b[0m\u001b[0;34m\"facebook.com \"\u001b[0m\u001b[0;34m+\u001b[0m\u001b[0mlink\u001b[0m\u001b[0;34m,\u001b[0m \u001b[0mnum\u001b[0m\u001b[0;34m=\u001b[0m\u001b[0;36m10\u001b[0m\u001b[0;34m,\u001b[0m \u001b[0mstop\u001b[0m\u001b[0;34m=\u001b[0m\u001b[0;36m10\u001b[0m\u001b[0;34m)\u001b[0m\u001b[0;34m\u001b[0m\u001b[0;34m\u001b[0m\u001b[0m\n\u001b[0;32m---> 15\u001b[0;31m       \u001b[0mtime\u001b[0m\u001b[0;34m.\u001b[0m\u001b[0msleep\u001b[0m\u001b[0;34m(\u001b[0m\u001b[0mrandom\u001b[0m\u001b[0;34m.\u001b[0m\u001b[0mrandint\u001b[0m\u001b[0;34m(\u001b[0m\u001b[0;36m5\u001b[0m\u001b[0;34m,\u001b[0m\u001b[0;36m12\u001b[0m\u001b[0;34m)\u001b[0m\u001b[0;34m)\u001b[0m\u001b[0;34m\u001b[0m\u001b[0;34m\u001b[0m\u001b[0m\n\u001b[0m\u001b[1;32m     16\u001b[0m       \u001b[0;32mfor\u001b[0m \u001b[0mfblink\u001b[0m \u001b[0;32min\u001b[0m \u001b[0mresp\u001b[0m\u001b[0;34m:\u001b[0m\u001b[0;34m\u001b[0m\u001b[0;34m\u001b[0m\u001b[0m\n\u001b[1;32m     17\u001b[0m         \u001b[0;32mtry\u001b[0m\u001b[0;34m:\u001b[0m\u001b[0;34m\u001b[0m\u001b[0;34m\u001b[0m\u001b[0m\n",
            "\u001b[0;31mKeyboardInterrupt\u001b[0m: "
          ]
        }
      ]
    }
  ]
}