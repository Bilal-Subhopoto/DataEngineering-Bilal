{
  "nbformat": 4,
  "nbformat_minor": 0,
  "metadata": {
    "colab": {
      "name": "0103_parsing CSV files.ipynb",
      "provenance": [],
      "collapsed_sections": [],
      "mount_file_id": "1fKcPaPzQHwpIpopOwSthblCMRAN-mftu",
      "authorship_tag": "ABX9TyO3Sg2lFYYJKPD/iT8IGfo5",
      "include_colab_link": true
    },
    "kernelspec": {
      "name": "python3",
      "display_name": "Python 3"
    },
    "language_info": {
      "name": "python"
    }
  },
  "cells": [
    {
      "cell_type": "markdown",
      "metadata": {
        "id": "view-in-github",
        "colab_type": "text"
      },
      "source": [
        "<a href=\"https://colab.research.google.com/github/BillTill59/DataEngineering-Bilal/blob/main/0103_parsing_CSV_files.ipynb\" target=\"_parent\"><img src=\"https://colab.research.google.com/assets/colab-badge.svg\" alt=\"Open In Colab\"/></a>"
      ]
    },
    {
      "cell_type": "code",
      "metadata": {
        "colab": {
          "base_uri": "https://localhost:8080/"
        },
        "id": "jjsE2EowukML",
        "outputId": "823e0b1a-9f79-408c-bf5a-8422e29411ec"
      },
      "source": [
        "import csv\n",
        "with open('/content/drive/MyDrive/cognilium /Data Wrangling with python /hrdata.csv','r') as csvfile:\n",
        "    reader = csv.reader(csvfile)\n",
        "    \n",
        "    for column in reader:\n",
        "        print (column[0], end = '\\t\\t')\n",
        "        print (column[1], end = '\\t\\t')\n",
        "        print (column[2], end = '\\t\\t')\n",
        "        print (column[3], end = '\\n')"
      ],
      "execution_count": 3,
      "outputs": [
        {
          "output_type": "stream",
          "name": "stdout",
          "text": [
            "Name of Employee\t\tHire Date\t\tSalary\t\tPaid leaves Remaining\n",
            "Blake\t\t03/15/14\t\t50000.00\t\t10\n",
            "Clark\t\t05/12/14\t\t45000.00\t\t10\n",
            "Jones\t\t11/01/13\t\t70000.00\t\t3\n",
            "Martin\t\t08/12/14\t\t48000.00\t\t7\n",
            "Allen\t\t05/23/13\t\t66000.00\t\t8\n",
            "Ward\t\t01/01/10\t\t50000.00\t\t5\n",
            "Ford\t\t05/06/09\t\t75000.00\t\t7\n",
            "Scott\t\t12/25/10\t\t65000.00\t\t6\n",
            "Adams\t\t07/26/08\t\t100000.00\t\t10\n",
            "Miller\t\t01/16/08\t\t80000.00\t\t2\n"
          ]
        }
      ]
    },
    {
      "cell_type": "code",
      "metadata": {
        "colab": {
          "base_uri": "https://localhost:8080/"
        },
        "id": "AYDTjnrNu5ha",
        "outputId": "ccc7c829-c010-48db-e38c-d1d194d3e1c8"
      },
      "source": [
        "import pandas as pd\n",
        "dataset1 = pd.read_csv('/content/drive/MyDrive/cognilium /Data Wrangling with python /hrdata.csv')\n",
        "columns1 = list(dataset1.columns)\n",
        "print(dataset1)"
      ],
      "execution_count": 4,
      "outputs": [
        {
          "output_type": "stream",
          "name": "stdout",
          "text": [
            "  Name of Employee Hire Date  ...  Due Working Hours  Performance Score\n",
            "0            Blake  03/15/14  ...                 70                  9\n",
            "1            Clark  05/12/14  ...                 55                  8\n",
            "2            Jones  11/01/13  ...                 78                  9\n",
            "3           Martin  08/12/14  ...                 60                  6\n",
            "4            Allen  05/23/13  ...                 40                  4\n",
            "5             Ward  01/01/10  ...                 70                 10\n",
            "6             Ford  05/06/09  ...                 80                 10\n",
            "7            Scott  12/25/10  ...                 85                  8\n",
            "8            Adams  07/26/08  ...                 90                  7\n",
            "9           Miller  01/16/08  ...                100                  2\n",
            "\n",
            "[10 rows x 8 columns]\n"
          ]
        }
      ]
    },
    {
      "cell_type": "code",
      "metadata": {
        "colab": {
          "base_uri": "https://localhost:8080/"
        },
        "id": "_VjHl5tfu7GS",
        "outputId": "6a5eee62-2149-41b8-cee4-8cba2005e28d"
      },
      "source": [
        "\n",
        "dataset2 = pd.read_csv('/content/drive/MyDrive/cognilium /Data Wrangling with python /hrdata.csv', header = 0, names = ['a', 'B','c','d','e','f','g','h'])\n",
        "columns2 = list(dataset2.columns)\n",
        "print(dataset2)\n"
      ],
      "execution_count": 7,
      "outputs": [
        {
          "output_type": "stream",
          "name": "stdout",
          "text": [
            "        a         B  ...    g   h\n",
            "0   Blake  03/15/14  ...   70   9\n",
            "1   Clark  05/12/14  ...   55   8\n",
            "2   Jones  11/01/13  ...   78   9\n",
            "3  Martin  08/12/14  ...   60   6\n",
            "4   Allen  05/23/13  ...   40   4\n",
            "5    Ward  01/01/10  ...   70  10\n",
            "6    Ford  05/06/09  ...   80  10\n",
            "7   Scott  12/25/10  ...   85   8\n",
            "8   Adams  07/26/08  ...   90   7\n",
            "9  Miller  01/16/08  ...  100   2\n",
            "\n",
            "[10 rows x 8 columns]\n"
          ]
        }
      ]
    }
  ]
}