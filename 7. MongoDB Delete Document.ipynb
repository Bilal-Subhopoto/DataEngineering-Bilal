{
 "cells": [
  {
   "cell_type": "code",
   "execution_count": 1,
   "id": "e236743d",
   "metadata": {},
   "outputs": [],
   "source": [
    "import pymongo"
   ]
  },
  {
   "cell_type": "code",
   "execution_count": 9,
   "id": "b6ceb17e",
   "metadata": {},
   "outputs": [
    {
     "data": {
      "text/plain": [
       "<pymongo.results.DeleteResult at 0x22fc1abcf40>"
      ]
     },
     "execution_count": 9,
     "metadata": {},
     "output_type": "execute_result"
    }
   ],
   "source": [
    "# Delete Document\n",
    "myclient = pymongo.MongoClient(\"mongodb://localhost:27017/\")\n",
    "mydb = myclient.insertDoc\n",
    "mycol = mydb.withID\n",
    "\n",
    "myquery = { \"address\": \"Mountain 21\" }\n",
    "\n",
    "mycol.delete_one(myquery)"
   ]
  },
  {
   "cell_type": "code",
   "execution_count": 11,
   "id": "423ea19a",
   "metadata": {},
   "outputs": [
    {
     "name": "stdout",
     "output_type": "stream",
     "text": [
      "2  documents detleted\n"
     ]
    }
   ],
   "source": [
    "# Delete Many Documents\n",
    "myquery = { \"address\": {\"$gt\": \"S\"} }\n",
    "\n",
    "x = mycol.delete_many(myquery)\n",
    "print(x.deleted_count,' documents detleted')"
   ]
  },
  {
   "cell_type": "code",
   "execution_count": 12,
   "id": "4b44095a",
   "metadata": {},
   "outputs": [
    {
     "name": "stdout",
     "output_type": "stream",
     "text": [
      "9  documents deleted.\n"
     ]
    }
   ],
   "source": [
    "# Delete All Documents in a Collection\n",
    "x = mycol.delete_many({})\n",
    "print(x.deleted_count, \" documents deleted.\")"
   ]
  }
 ],
 "metadata": {
  "kernelspec": {
   "display_name": "Python 3 (ipykernel)",
   "language": "python",
   "name": "python3"
  },
  "language_info": {
   "codemirror_mode": {
    "name": "ipython",
    "version": 3
   },
   "file_extension": ".py",
   "mimetype": "text/x-python",
   "name": "python",
   "nbconvert_exporter": "python",
   "pygments_lexer": "ipython3",
   "version": "3.9.7"
  }
 },
 "nbformat": 4,
 "nbformat_minor": 5
}
