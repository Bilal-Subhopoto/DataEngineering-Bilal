{
 "cells": [
  {
   "cell_type": "code",
   "execution_count": 14,
   "id": "65c24b53",
   "metadata": {},
   "outputs": [],
   "source": [
    "import pymongo\n",
    "myclient = pymongo.MongoClient('mongodb://localhost:27017/')\n",
    "mydb = myclient.BillDatabase\n",
    "# myclient = pymongo.MongoClient(\"mongodb://localhost:27017/\")\n",
    "\n",
    "# mydb = myclient[\"mydatabase\"]"
   ]
  },
  {
   "cell_type": "code",
   "execution_count": 15,
   "id": "054cf9aa",
   "metadata": {},
   "outputs": [
    {
     "name": "stdout",
     "output_type": "stream",
     "text": [
      "['admin', 'config', 'local', 'mydatabase2', 'mydatabase3', 'test', 'test1']\n"
     ]
    }
   ],
   "source": [
    "print(myclient.list_database_names())# Database named 'test' exits"
   ]
  },
  {
   "cell_type": "code",
   "execution_count": 18,
   "id": "1e1f4ebb",
   "metadata": {},
   "outputs": [],
   "source": [
    "dblist = myclient.list_database_names()\n",
    "if \"BillDatabase\" in dblist:\n",
    "    print(\"BillDatabase exits..\")"
   ]
  }
 ],
 "metadata": {
  "kernelspec": {
   "display_name": "Python 3 (ipykernel)",
   "language": "python",
   "name": "python3"
  },
  "language_info": {
   "codemirror_mode": {
    "name": "ipython",
    "version": 3
   },
   "file_extension": ".py",
   "mimetype": "text/x-python",
   "name": "python",
   "nbconvert_exporter": "python",
   "pygments_lexer": "ipython3",
   "version": "3.7.9"
  }
 },
 "nbformat": 4,
 "nbformat_minor": 5
}
