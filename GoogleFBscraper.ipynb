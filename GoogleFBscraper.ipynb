{
  "nbformat": 4,
  "nbformat_minor": 0,
  "metadata": {
    "colab": {
      "name": "GoogleFBscraper.ipynb",
      "provenance": [],
      "collapsed_sections": [],
      "mount_file_id": "1hrXqLnQIB2TVY5-B04kCCSfrp_ozFXuH",
      "authorship_tag": "ABX9TyOUjp7SEtjPF26uRe1NYVgv",
      "include_colab_link": true
    },
    "kernelspec": {
      "name": "python3",
      "display_name": "Python 3"
    },
    "language_info": {
      "name": "python"
    }
  },
  "cells": [
    {
      "cell_type": "markdown",
      "metadata": {
        "id": "view-in-github",
        "colab_type": "text"
      },
      "source": [
        "<a href=\"https://colab.research.google.com/github/Bilal-Subhopoto/DataEngineering-Bilal/blob/main/GoogleFBscraper.ipynb\" target=\"_parent\"><img src=\"https://colab.research.google.com/assets/colab-badge.svg\" alt=\"Open In Colab\"/></a>"
      ]
    },
    {
      "cell_type": "code",
      "source": [
        "!pip install tldextract "
      ],
      "metadata": {
        "id": "JEnndiin_YKC"
      },
      "execution_count": null,
      "outputs": []
    },
    {
      "cell_type": "code",
      "source": [
        "!pip install facebook_scraper"
      ],
      "metadata": {
        "id": "qTK-vsLo7Y8b"
      },
      "execution_count": null,
      "outputs": []
    },
    {
      "cell_type": "code",
      "source": [
        "sitenames = \"\"\"Yahoo-ABC News Network\n",
        "CNN\n",
        "NBC News\n",
        "Huffington Post\n",
        "CBS News\n",
        "USAToday\n",
        "BuzzFeed\n",
        "New York Times\n",
        "Fox News Digital Network\n",
        "Daily Mail\n",
        "Washington Post\n",
        "Bleacher Report\n",
        "Business Insider\n",
        "Elite Daily\n",
        "BBC\n",
        "CNET\n",
        "Guardian\n",
        "MSN News\n",
        "NPR\n",
        "New York Daily News\n",
        "Los Angeles Times\n",
        "New York Post\n",
        "Time\n",
        "Mashable\n",
        "SFGate\n",
        "Slate\n",
        "Upworthy\n",
        "TheBlaze\n",
        "Telegraph\n",
        "U.S. News\n",
        "Vice\n",
        "Chron\n",
        "Gawker\n",
        "Examiner\n",
        "Vox\n",
        "Chicago Tribune\n",
        "Daily Beast\n",
        "Salon\n",
        "Mic\n",
        "Mirror Online\n",
        "NJ.com\n",
        "Independent\n",
        "Detroit Free Press\n",
        "Boston Globe\n",
        "Atlantic\n",
        "MLive\n",
        "Engadget\n",
        "TechCrunch\n",
        "Boston.com\n",
        "AL.com\n",
        "Dallas Morning News\"\"\"\n",
        "# print(sitenames)\n",
        "sitenames_list = [y for y in (x.strip() for x in sitenames.splitlines()) if y]\n",
        "# if x.strip() is used to remove empty lines"
      ],
      "metadata": {
        "id": "xPMKPX4WT1fJ"
      },
      "execution_count": 4,
      "outputs": []
    },
    {
      "cell_type": "code",
      "source": [
        "from googlesearch import search\n",
        "import tldextract\n",
        "import time\n",
        "import random\n",
        "import pymongo\n",
        "from facebook_scraper import get_posts\n",
        "myclient = pymongo.MongoClient(\"mongodb://43.251.253.107:1600/\")\n",
        "mydb = myclient['GoogleFBscraper-Bilal']\n",
        "mycol = mydb['Allposts']"
      ],
      "metadata": {
        "id": "V9SO1y9qqhex"
      },
      "execution_count": 24,
      "outputs": []
    },
    {
      "cell_type": "code",
      "source": [
        "import requests\n",
        "urls = []\n",
        "pageNames = ''\n",
        "for ttls in sitenames_list:\n",
        "  urls.append(pageNames)\n",
        "  try:\n",
        "    resp=search(\"facebook.com \"+ttls, num=6)   \n",
        "    time.sleep(random.randint(5,12))\n",
        "    for link in resp:\n",
        "      childFLD=tldextract.extract(link)\n",
        "      childFLD=childFLD.domain\n",
        "      if childFLD==\"facebook\":\n",
        "        try:\n",
        "          print(link)\n",
        "          pageNames = link.split('/')[3].strip()\n",
        "          # pageNames = link.split('/')[2:3]use either\n",
        "          print(pageNames)\n",
        "        except Exception as e:\n",
        "          print(e)\n",
        "        break\n",
        "  except Exception as e:\n",
        "    print(e)"
      ],
      "metadata": {
        "colab": {
          "base_uri": "https://localhost:8080/",
          "height": 896
        },
        "id": "B1d2JgrMb0qj",
        "outputId": "cdbf34a1-0f22-457c-decf-f8d056954407"
      },
      "execution_count": 21,
      "outputs": [
        {
          "output_type": "stream",
          "name": "stdout",
          "text": [
            "https://www.facebook.com/yahoonews/\n",
            "yahoonews\n",
            "https://www.facebook.com/cnn/\n",
            "cnn\n",
            "https://m.facebook.com/profile.php?id=279466215487186\n",
            "profile.php?id=279466215487186\n",
            "https://www.facebook.com/HuffPost/\n",
            "HuffPost\n",
            "https://www.facebook.com/CBSNews/\n",
            "CBSNews\n",
            "https://www.facebook.com/usatoday\n",
            "usatoday\n",
            "https://www.facebook.com/BuzzFeed/\n",
            "BuzzFeed\n",
            "https://www.facebook.com/nytimes/\n",
            "nytimes\n",
            "https://www.facebook.com/FoxNews\n",
            "FoxNews\n",
            "https://www.facebook.com/DailyMail/\n",
            "DailyMail\n",
            "https://www.facebook.com/washingtonpost/\n",
            "washingtonpost\n",
            "https://www.facebook.com/bleacherreport/\n",
            "bleacherreport\n",
            "https://www.facebook.com/businessinsider/\n",
            "businessinsider\n",
            "https://www.facebook.com/EliteDaily/\n",
            "EliteDaily\n",
            "https://www.facebook.com/bbcnews/\n",
            "bbcnews\n",
            "https://www.facebook.com/cnet/\n",
            "cnet\n",
            "https://www.facebook.com/theguardian/\n",
            "theguardian\n",
            "https://www.facebook.com/msn/\n",
            "msn\n",
            "HTTP Error 429: Too Many Requests\n",
            "HTTP Error 429: Too Many Requests\n"
          ]
        },
        {
          "output_type": "error",
          "ename": "KeyboardInterrupt",
          "evalue": "ignored",
          "traceback": [
            "\u001b[0;31m---------------------------------------------------------------------------\u001b[0m",
            "\u001b[0;31mKeyboardInterrupt\u001b[0m                         Traceback (most recent call last)",
            "\u001b[0;32m<ipython-input-21-1dc78c3a8d8b>\u001b[0m in \u001b[0;36m<module>\u001b[0;34m()\u001b[0m\n\u001b[1;32m      6\u001b[0m   \u001b[0;32mtry\u001b[0m\u001b[0;34m:\u001b[0m\u001b[0;34m\u001b[0m\u001b[0;34m\u001b[0m\u001b[0m\n\u001b[1;32m      7\u001b[0m     \u001b[0mresp\u001b[0m\u001b[0;34m=\u001b[0m\u001b[0msearch\u001b[0m\u001b[0;34m(\u001b[0m\u001b[0;34m\"facebook.com \"\u001b[0m\u001b[0;34m+\u001b[0m\u001b[0mttls\u001b[0m\u001b[0;34m,\u001b[0m \u001b[0mnum\u001b[0m\u001b[0;34m=\u001b[0m\u001b[0;36m6\u001b[0m\u001b[0;34m)\u001b[0m\u001b[0;34m\u001b[0m\u001b[0;34m\u001b[0m\u001b[0m\n\u001b[0;32m----> 8\u001b[0;31m     \u001b[0mtime\u001b[0m\u001b[0;34m.\u001b[0m\u001b[0msleep\u001b[0m\u001b[0;34m(\u001b[0m\u001b[0mrandom\u001b[0m\u001b[0;34m.\u001b[0m\u001b[0mrandint\u001b[0m\u001b[0;34m(\u001b[0m\u001b[0;36m5\u001b[0m\u001b[0;34m,\u001b[0m\u001b[0;36m12\u001b[0m\u001b[0;34m)\u001b[0m\u001b[0;34m)\u001b[0m\u001b[0;34m\u001b[0m\u001b[0;34m\u001b[0m\u001b[0m\n\u001b[0m\u001b[1;32m      9\u001b[0m     \u001b[0;32mfor\u001b[0m \u001b[0mlink\u001b[0m \u001b[0;32min\u001b[0m \u001b[0mresp\u001b[0m\u001b[0;34m:\u001b[0m\u001b[0;34m\u001b[0m\u001b[0;34m\u001b[0m\u001b[0m\n\u001b[1;32m     10\u001b[0m       \u001b[0mchildFLD\u001b[0m\u001b[0;34m=\u001b[0m\u001b[0mtldextract\u001b[0m\u001b[0;34m.\u001b[0m\u001b[0mextract\u001b[0m\u001b[0;34m(\u001b[0m\u001b[0mlink\u001b[0m\u001b[0;34m)\u001b[0m\u001b[0;34m\u001b[0m\u001b[0;34m\u001b[0m\u001b[0m\n",
            "\u001b[0;31mKeyboardInterrupt\u001b[0m: "
          ]
        }
      ]
    },
    {
      "cell_type": "code",
      "source": [
        "print(urls)\n",
        "fields = ('comments','link','likes','images','shared_time','text','post_id','reactions','shares','user_id','time','timestamp','time')\n",
        "# fbPages = ('ABCNews','cnn','NBCNews','mlive','TheIndependentOnline','thedailybeast','WashingtonExaminer','Gawker','Upworthy','chroncom','Slate','bleacherreport','EliteDaily','washingtonpost','DailyMail','nytimes','BuzzFeed','usatoday','CBSNews','HuffPost')\n",
        "for fbp in urls:\n",
        "  try:\n",
        "    for post in get_posts(fbp, pages= 3,cookies= 'cookies.txt'):\n",
        "      collection = {'pgName':fbp}\n",
        "      for items in fields:\n",
        "        collection[items] = (post[items])\n",
        "      x = mycol.insert_one(collection) \n",
        "  except Exception as e:\n",
        "    print(e)"
      ],
      "metadata": {
        "colab": {
          "base_uri": "https://localhost:8080/"
        },
        "id": "erFdkSsm0C0P",
        "outputId": "52756c59-a803-456a-dcc9-812c3af26bb6"
      },
      "execution_count": 26,
      "outputs": [
        {
          "output_type": "stream",
          "name": "stdout",
          "text": [
            "['', 'yahoonews', 'cnn', 'profile.php?id=279466215487186', 'HuffPost', 'CBSNews', 'usatoday', 'BuzzFeed', 'nytimes', 'FoxNews', 'DailyMail', 'washingtonpost', 'bleacherreport', 'businessinsider', 'EliteDaily', 'bbcnews', 'cnet', 'theguardian', 'msn', 'msn', 'msn']\n",
            "Content Not Found\n"
          ]
        }
      ]
    }
  ]
}