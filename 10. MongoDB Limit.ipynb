{
 "cells": [
  {
   "cell_type": "code",
   "execution_count": 1,
   "id": "8fe532fb",
   "metadata": {},
   "outputs": [
    {
     "name": "stdout",
     "output_type": "stream",
     "text": [
      "{'_id': ObjectId('61b704ad920b50ddd0b3b1b0'), 'name': 'Amy', 'address': 'Apple st 652'}\n",
      "{'_id': ObjectId('61b704ad920b50ddd0b3b1b1'), 'name': 'Hannah', 'address': 'Mountain 21'}\n",
      "{'_id': ObjectId('61b704ad920b50ddd0b3b1b2'), 'name': 'Michael', 'address': 'qasimabad'}\n",
      "{'_id': ObjectId('61b704ad920b50ddd0b3b1b3'), 'name': 'Sandy', 'address': 'Ocean blvd 2'}\n",
      "{'_id': ObjectId('61b704ad920b50ddd0b3b1b4'), 'name': 'Betty', 'address': 'Green Grass 1'}\n"
     ]
    }
   ],
   "source": [
    "import pymongo\n",
    "\n",
    "myclient = pymongo.MongoClient(\"mongodb://localhost:27017/\")\n",
    "mydb = myclient.insertDoc\n",
    "mycol = mydb.manyDoc\n",
    "\n",
    "myresult = mycol.find().limit(5)\n",
    "\n",
    "#print the limited result:\n",
    "for x in myresult:\n",
    "    print(x)"
   ]
  }
 ],
 "metadata": {
  "kernelspec": {
   "display_name": "Python 3 (ipykernel)",
   "language": "python",
   "name": "python3"
  },
  "language_info": {
   "codemirror_mode": {
    "name": "ipython",
    "version": 3
   },
   "file_extension": ".py",
   "mimetype": "text/x-python",
   "name": "python",
   "nbconvert_exporter": "python",
   "pygments_lexer": "ipython3",
   "version": "3.9.7"
  }
 },
 "nbformat": 4,
 "nbformat_minor": 5
}
