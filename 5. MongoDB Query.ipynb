{
 "cells": [
  {
   "cell_type": "code",
   "execution_count": 4,
   "id": "a92f0b7c",
   "metadata": {},
   "outputs": [],
   "source": [
    "import pymongo"
   ]
  },
  {
   "cell_type": "code",
   "execution_count": 12,
   "id": "50f5f3a9",
   "metadata": {},
   "outputs": [
    {
     "name": "stdout",
     "output_type": "stream",
     "text": [
      "{'_id': 11, 'name': 'Ben', 'address': 'Park Lane 38'}\n"
     ]
    }
   ],
   "source": [
    "# Filter the Result\n",
    "myclient = pymongo.MongoClient('mongodb://localhost:27017/')\n",
    "mydb = myclient.insertDoc\n",
    "mycol = mydb.withID\n",
    "\n",
    "myquery = { \"address\": \"Park Lane 38\" }\n",
    "\n",
    "\n",
    "for x in mycol.find(myquery):\n",
    "    print(x)"
   ]
  },
  {
   "cell_type": "code",
   "execution_count": 22,
   "id": "72245165",
   "metadata": {},
   "outputs": [
    {
     "name": "stdout",
     "output_type": "stream",
     "text": [
      "{'_id': 5, 'name': 'Michael', 'address': 'Valley 345'}\n",
      "{'_id': 8, 'name': 'Richard', 'address': 'Sky st 331'}\n",
      "{'_id': 10, 'name': 'Vicky', 'address': 'Yellow Garden 2'}\n",
      "{'_id': 14, 'name': 'Viola', 'address': 'Sideway 1633'}\n"
     ]
    }
   ],
   "source": [
    "# Advanced Query\n",
    "mydb = myclient.insertDoc\n",
    "mycol = mydb.withID\n",
    "\n",
    "myquery = {'address': {'$gt': 'S'} }\n",
    "#E.g. to find the documents where the \"address\" field starts with the letter \"S\" or higher (alphabetically)\n",
    "#use the greater than modifier: {\"$gt\": \"S\"}\n",
    "\n",
    "for q in mycol.find(myquery):\n",
    "    print(q)"
   ]
  },
  {
   "cell_type": "code",
   "execution_count": 24,
   "id": "9808ae21",
   "metadata": {},
   "outputs": [
    {
     "name": "stdout",
     "output_type": "stream",
     "text": [
      "{'_id': 8, 'name': 'Richard', 'address': 'Sky st 331'}\n",
      "{'_id': 14, 'name': 'Viola', 'address': 'Sideway 1633'}\n"
     ]
    }
   ],
   "source": [
    "# Filter With Regular Expressions\n",
    "mydb = myclient.insertDoc\n",
    "mycol = mydb.withID\n",
    "\n",
    "myquery = {'address' : {'$regex': '^S'}}\n",
    "\n",
    "for r in mycol.find(myquery):\n",
    "    print(r)"
   ]
  }
 ],
 "metadata": {
  "kernelspec": {
   "display_name": "Python 3 (ipykernel)",
   "language": "python",
   "name": "python3"
  },
  "language_info": {
   "codemirror_mode": {
    "name": "ipython",
    "version": 3
   },
   "file_extension": ".py",
   "mimetype": "text/x-python",
   "name": "python",
   "nbconvert_exporter": "python",
   "pygments_lexer": "ipython3",
   "version": "3.9.7"
  }
 },
 "nbformat": 4,
 "nbformat_minor": 5
}
