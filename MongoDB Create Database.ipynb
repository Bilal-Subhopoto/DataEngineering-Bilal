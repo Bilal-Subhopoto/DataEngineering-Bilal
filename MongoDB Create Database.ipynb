{
 "cells": [
  {
   "cell_type": "code",
   "execution_count": 1,
   "id": "65c24b53",
   "metadata": {},
   "outputs": [],
   "source": [
    "import pymongo\n",
    "\n",
    "myclient = pymongo.MongoClient(\"mongodb://localhost:27017/\")\n",
    "\n",
    "mydb = myclient[\"mydatabase\"]"
   ]
  },
  {
   "cell_type": "code",
   "execution_count": 2,
   "id": "054cf9aa",
   "metadata": {},
   "outputs": [
    {
     "name": "stdout",
     "output_type": "stream",
     "text": [
      "['admin', 'config', 'local', 'test']\n"
     ]
    }
   ],
   "source": [
    "print(myclient.list_database_names())# Database named 'test' exits"
   ]
  },
  {
   "cell_type": "code",
   "execution_count": 5,
   "id": "1e1f4ebb",
   "metadata": {},
   "outputs": [],
   "source": [
    "dblist = myclient.list_database_names()\n",
    "if \"mydatabase\" in dblist:\n",
    "    print(\"The database exists.\")#does not exit."
   ]
  },
  {
   "cell_type": "code",
   "execution_count": null,
   "id": "ee54942f",
   "metadata": {},
   "outputs": [],
   "source": []
  }
 ],
 "metadata": {
  "kernelspec": {
   "display_name": "Python 3 (ipykernel)",
   "language": "python",
   "name": "python3"
  },
  "language_info": {
   "codemirror_mode": {
    "name": "ipython",
    "version": 3
   },
   "file_extension": ".py",
   "mimetype": "text/x-python",
   "name": "python",
   "nbconvert_exporter": "python",
   "pygments_lexer": "ipython3",
   "version": "3.9.7"
  }
 },
 "nbformat": 4,
 "nbformat_minor": 5
}
