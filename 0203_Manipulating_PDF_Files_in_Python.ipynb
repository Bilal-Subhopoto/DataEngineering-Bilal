{
  "nbformat": 4,
  "nbformat_minor": 0,
  "metadata": {
    "colab": {
      "name": "0203.Manipulating PDF Files in Python.ipynb",
      "provenance": [],
      "mount_file_id": "12hLKL32DL7FzMdCP9Q-NyT92kjoDjYtY",
      "authorship_tag": "ABX9TyO4mgpDVfaPFXhXMZPumByo",
      "include_colab_link": true
    },
    "kernelspec": {
      "name": "python3",
      "display_name": "Python 3"
    },
    "language_info": {
      "name": "python"
    }
  },
  "cells": [
    {
      "cell_type": "markdown",
      "metadata": {
        "id": "view-in-github",
        "colab_type": "text"
      },
      "source": [
        "<a href=\"https://colab.research.google.com/github/BillTill59/DataEngineering-Bilal/blob/main/0203_Manipulating_PDF_Files_in_Python.ipynb\" target=\"_parent\"><img src=\"https://colab.research.google.com/assets/colab-badge.svg\" alt=\"Open In Colab\"/></a>"
      ]
    },
    {
      "cell_type": "code",
      "metadata": {
        "colab": {
          "base_uri": "https://localhost:8080/"
        },
        "id": "oEs_kfmX8Kru",
        "outputId": "d978e8ff-3c87-47d3-9182-b739bf53e7d9"
      },
      "source": [
        "!pip install pypdf2"
      ],
      "execution_count": 3,
      "outputs": [
        {
          "output_type": "stream",
          "name": "stdout",
          "text": [
            "Requirement already satisfied: pypdf2 in /usr/local/lib/python3.7/dist-packages (1.26.0)\n"
          ]
        }
      ]
    },
    {
      "cell_type": "code",
      "metadata": {
        "id": "bK7fNWyL8yep"
      },
      "source": [
        "import PyPDF2"
      ],
      "execution_count": 9,
      "outputs": []
    },
    {
      "cell_type": "code",
      "metadata": {
        "colab": {
          "base_uri": "https://localhost:8080/"
        },
        "id": "4utZlFWb80Ry",
        "outputId": "b66276e7-ebde-47c9-e308-d5330712c221"
      },
      "source": [
        "PDF_data = list()\n",
        "with open('/content/drive/MyDrive/cognilium /Data Wrangling with python /02.Working with Data from Excel and PDF Files/17ES59 Resume.pdf','rb') as f:\n",
        "  pdfreader = PyPDF2.PdfFileReader(f)\n",
        "  number_of_pages = pdfreader.numPages\n",
        "  for i in range(number_of_pages):\n",
        "    page = pdfreader.getPage(i).extractText()\n",
        "    PDF_data.append(page)\n",
        "    print(page)\n"
      ],
      "execution_count": 11,
      "outputs": [
        {
          "output_type": "stream",
          "name": "stdout",
          "text": [
            " \n",
            " \n",
            " \n",
            "BILAL\n",
            " \n",
            "Studen\n",
            "t\n",
            " \n",
            "ADDRESS\n",
            " \n",
            "HOUSE NO: B\n",
            "-\n",
            "7 Street No.6\n",
            " \n",
            "FARAZ VILLAS PHASE\n",
            "-\n",
            "III,\n",
            " \n",
            "QASIMABAD, HYDERABAD,\n",
            " \n",
            "PAKISTAN 71000.\n",
            " \n",
            " \n",
            "CONTACT\n",
            " \n",
            "PHONE:\n",
            " \n",
            "+92\n",
            "-\n",
            "3133\n",
            "-\n",
            "142959\n",
            " \n",
            " \n",
            "EMAIL:\n",
            " \n",
            "b\n",
            "ilalrasool178@gmail.com\n",
            " \n",
            "LANGUAGES\n",
            " \n",
            "Sindhi\n",
            " \n",
            "Urdu\n",
            " \n",
            "English\n",
            " \n",
            " \n",
            " \n",
            "EDUCATION\n",
            " \n",
            "Mehran UET Jamshoro\n",
            " \n",
            "2017\n",
            "\n",
            "2021\n",
            " \n",
            "(Pursuing)\n",
            " \n",
            " \n",
            "Public School Hyderabad \n",
            " \n",
            "2002\n",
            "\n",
            "2016\n",
            " \n",
            "Studied Pre\n",
            "-\n",
            "Engineering in College \n",
            "\n",
            " \n",
            "66%\n",
            " \n",
            "Studied Science in Secondary school \n",
            "\n",
            " \n",
            "77%\n",
            " \n",
            "PROJECTS\n",
            " \n",
            "AI based Android App for Disease Diagnosis\n",
            "-\n",
            "Current project\n",
            " \n",
            "Working on an ML\n",
            "/DL supported App that automates the diagnosis \n",
            "process for diseases such as M\n",
            "alaria, Anemia, Polycythemi`a\n",
            ". using \n",
            "microscopic Images of Blood slides.\n",
            " \n",
            " \n",
            "Pet Projects\n",
            " \n",
            "A \n",
            "Door step mat with Alarm to Indicate Intruder.\n",
            " \n",
            "IGBT based inverter circuit.\n",
            " \n",
            "Juicer blender\n",
            " \n",
            "using Speed Controlled DC Motor\n",
            ".\n",
            " \n",
            "Automatic Tank O\n",
            "verflow detection using Transistors.\n",
            " \n",
            "SKILLS\n",
            " \n",
            " \n",
            " \n",
            "50%\n",
            "100%\n",
            "25%\n",
            "75%\n",
            "35%\n",
            "Circuit\n",
            "Design\n",
            "MS word\n",
            "Python\n",
            "Matlab\n",
            "Android\n",
            "Studio\n",
            "\n"
          ]
        }
      ]
    }
  ]
}