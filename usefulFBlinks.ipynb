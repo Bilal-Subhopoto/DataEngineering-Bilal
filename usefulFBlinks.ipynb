{
  "nbformat": 4,
  "nbformat_minor": 0,
  "metadata": {
    "colab": {
      "name": "usefulFBlinks.ipynb",
      "provenance": [],
      "collapsed_sections": [],
      "authorship_tag": "ABX9TyOkD8SoEMP4sqrJccdVrzHM",
      "include_colab_link": true
    },
    "kernelspec": {
      "name": "python3",
      "display_name": "Python 3"
    },
    "language_info": {
      "name": "python"
    }
  },
  "cells": [
    {
      "cell_type": "markdown",
      "metadata": {
        "id": "view-in-github",
        "colab_type": "text"
      },
      "source": [
        "<a href=\"https://colab.research.google.com/github/Bilal-Subhopoto/DataEngineering-Bilal/blob/main/usefulFBlinks.ipynb\" target=\"_parent\"><img src=\"https://colab.research.google.com/assets/colab-badge.svg\" alt=\"Open In Colab\"/></a>"
      ]
    },
    {
      "cell_type": "code",
      "source": [
        "!pip install redis\n",
        "!pip install tldextract\n",
        "from googlesearch import search\n",
        "import tldextract\n",
        "import time\n",
        "import random\n",
        "import redis"
      ],
      "metadata": {
        "colab": {
          "base_uri": "https://localhost:8080/"
        },
        "id": "MXM_DpzpX-gI",
        "outputId": "c0e410ce-2f57-4f0c-e004-929ffa875843"
      },
      "execution_count": null,
      "outputs": [
        {
          "output_type": "stream",
          "name": "stdout",
          "text": [
            "Collecting redis\n",
            "  Downloading redis-4.1.0-py3-none-any.whl (171 kB)\n",
            "\u001b[?25l\r\u001b[K     |██                              | 10 kB 19.5 MB/s eta 0:00:01\r\u001b[K     |███▉                            | 20 kB 22.0 MB/s eta 0:00:01\r\u001b[K     |█████▊                          | 30 kB 27.1 MB/s eta 0:00:01\r\u001b[K     |███████▋                        | 40 kB 23.1 MB/s eta 0:00:01\r\u001b[K     |█████████▌                      | 51 kB 24.3 MB/s eta 0:00:01\r\u001b[K     |███████████▍                    | 61 kB 25.8 MB/s eta 0:00:01\r\u001b[K     |█████████████▍                  | 71 kB 23.9 MB/s eta 0:00:01\r\u001b[K     |███████████████▎                | 81 kB 24.5 MB/s eta 0:00:01\r\u001b[K     |█████████████████▏              | 92 kB 25.8 MB/s eta 0:00:01\r\u001b[K     |███████████████████             | 102 kB 27.0 MB/s eta 0:00:01\r\u001b[K     |█████████████████████           | 112 kB 27.0 MB/s eta 0:00:01\r\u001b[K     |██████████████████████▉         | 122 kB 27.0 MB/s eta 0:00:01\r\u001b[K     |████████████████████████▉       | 133 kB 27.0 MB/s eta 0:00:01\r\u001b[K     |██████████████████████████▊     | 143 kB 27.0 MB/s eta 0:00:01\r\u001b[K     |████████████████████████████▋   | 153 kB 27.0 MB/s eta 0:00:01\r\u001b[K     |██████████████████████████████▌ | 163 kB 27.0 MB/s eta 0:00:01\r\u001b[K     |████████████████████████████████| 171 kB 27.0 MB/s \n",
            "\u001b[?25hRequirement already satisfied: packaging>=21.3 in /usr/local/lib/python3.7/dist-packages (from redis) (21.3)\n",
            "Requirement already satisfied: importlib-metadata>=1.0 in /usr/local/lib/python3.7/dist-packages (from redis) (4.8.2)\n",
            "Collecting deprecated>=1.2.3\n",
            "  Downloading Deprecated-1.2.13-py2.py3-none-any.whl (9.6 kB)\n",
            "Requirement already satisfied: wrapt<2,>=1.10 in /usr/local/lib/python3.7/dist-packages (from deprecated>=1.2.3->redis) (1.13.3)\n",
            "Requirement already satisfied: zipp>=0.5 in /usr/local/lib/python3.7/dist-packages (from importlib-metadata>=1.0->redis) (3.6.0)\n",
            "Requirement already satisfied: typing-extensions>=3.6.4 in /usr/local/lib/python3.7/dist-packages (from importlib-metadata>=1.0->redis) (3.10.0.2)\n",
            "Requirement already satisfied: pyparsing!=3.0.5,>=2.0.2 in /usr/local/lib/python3.7/dist-packages (from packaging>=21.3->redis) (3.0.6)\n",
            "Installing collected packages: deprecated, redis\n",
            "Successfully installed deprecated-1.2.13 redis-4.1.0\n",
            "Collecting tldextract\n",
            "  Downloading tldextract-3.1.2-py2.py3-none-any.whl (87 kB)\n",
            "\u001b[K     |████████████████████████████████| 87 kB 5.5 MB/s \n",
            "\u001b[?25hRequirement already satisfied: filelock>=3.0.8 in /usr/local/lib/python3.7/dist-packages (from tldextract) (3.4.0)\n",
            "Requirement already satisfied: requests>=2.1.0 in /usr/local/lib/python3.7/dist-packages (from tldextract) (2.23.0)\n",
            "Collecting requests-file>=1.4\n",
            "  Downloading requests_file-1.5.1-py2.py3-none-any.whl (3.7 kB)\n",
            "Requirement already satisfied: idna in /usr/local/lib/python3.7/dist-packages (from tldextract) (2.10)\n",
            "Requirement already satisfied: chardet<4,>=3.0.2 in /usr/local/lib/python3.7/dist-packages (from requests>=2.1.0->tldextract) (3.0.4)\n",
            "Requirement already satisfied: urllib3!=1.25.0,!=1.25.1,<1.26,>=1.21.1 in /usr/local/lib/python3.7/dist-packages (from requests>=2.1.0->tldextract) (1.24.3)\n",
            "Requirement already satisfied: certifi>=2017.4.17 in /usr/local/lib/python3.7/dist-packages (from requests>=2.1.0->tldextract) (2021.10.8)\n",
            "Requirement already satisfied: six in /usr/local/lib/python3.7/dist-packages (from requests-file>=1.4->tldextract) (1.15.0)\n",
            "Installing collected packages: requests-file, tldextract\n",
            "Successfully installed requests-file-1.5.1 tldextract-3.1.2\n"
          ]
        }
      ]
    },
    {
      "cell_type": "code",
      "source": [
        "DB14 = redis.Redis(host = '43.251.253.107',port=1500, db=14)\n",
        "DB15 = redis.Redis(host = '43.251.253.107',port=1500, db=15)"
      ],
      "metadata": {
        "id": "TfXod-xOYYOa"
      },
      "execution_count": null,
      "outputs": []
    },
    {
      "cell_type": "code",
      "execution_count": null,
      "metadata": {
        "colab": {
          "base_uri": "https://localhost:8080/"
        },
        "id": "YKRK-G5bX6Sf",
        "outputId": "e71b9437-4cd9-4eba-8a23-3d1142b69f41"
      },
      "outputs": [
        {
          "output_type": "stream",
          "name": "stdout",
          "text": [
            "4231\n",
            "4231\n"
          ]
        }
      ],
      "source": [
        "# DB14(google results) keys's list\n",
        "DB14_keys = []\n",
        "keys=DB14.keys()\n",
        "for key in keys:\n",
        "  dkey=key.decode(\"utf-8\")\n",
        "  DB14_keys.append(dkey)\n",
        "print(len(DB14_keys))\n",
        "# print(len(set(DB14_keys)))"
      ]
    },
    {
      "cell_type": "code",
      "source": [
        "# google-search each sitename from the above list\n",
        "useless = 0\n",
        "useful = 0\n",
        "for key in DB14_keys:\n",
        "  listOfLinks = DB14.smembers(key)\n",
        "  B = 0\n",
        "  R = 0\n",
        "  for ttls in listOfLinks:\n",
        "    \n",
        "    dttls=ttls.decode(\"utf-8\")  \n",
        "    child=tldextract.extract(dttls)\n",
        "    childFLD=child.domain\n",
        "    if (childFLD==\"facebook\") & (child.subdomain == 'www'):\n",
        "      pageName = dttls.split('/')[3].strip()\n",
        "      if pageName == 'business':\n",
        "        B +=1\n",
        "      else:\n",
        "        R +=1\n",
        "        print('key: ',key)\n",
        "        print('link: ',dttls)\n",
        "        #pageNames = link.split('/')[2:3]use either\n",
        "        print('Unique page name: ',pageName)\n",
        "        value = pageName+'||'+dttls\n",
        "        DB15.sadd(key,value)\n",
        "    # else:\n",
        "    #   B +=1\n",
        "  \n",
        "  # print('number of filtered FB links for each domain: ', R)\n",
        "  # print('number of useless links for each domain: ', B)\n",
        "  # print('New Domain///////////////////////////////////////////////////////////')\n",
        "  useless = useless+B\n",
        "  useful = useful+R\n",
        "print('useless links: ', useless)\n",
        "print('useful links: ',useful)\n"
      ],
      "metadata": {
        "id": "qnhlJD6iYUb5"
      },
      "execution_count": null,
      "outputs": []
    },
    {
      "cell_type": "code",
      "source": [
        "# save these 1033+ links on a pkl/txt\n",
        "# {cadbury.com: cadbury123||www.facebook.com/cadbury123}"
      ],
      "metadata": {
        "id": "UxAyEQko4_NF"
      },
      "execution_count": null,
      "outputs": []
    }
  ]
}