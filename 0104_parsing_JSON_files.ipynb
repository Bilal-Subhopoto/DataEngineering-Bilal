{
  "nbformat": 4,
  "nbformat_minor": 0,
  "metadata": {
    "colab": {
      "name": "0104_parsing JSON files.ipynb",
      "provenance": [],
      "collapsed_sections": [],
      "mount_file_id": "1qg-MbFESRixaDicB6xHSXYDSRsh0BpB1",
      "authorship_tag": "ABX9TyNvwl4rrja8j+MiI5aPkGML",
      "include_colab_link": true
    },
    "kernelspec": {
      "name": "python3",
      "display_name": "Python 3"
    },
    "language_info": {
      "name": "python"
    }
  },
  "cells": [
    {
      "cell_type": "markdown",
      "metadata": {
        "id": "view-in-github",
        "colab_type": "text"
      },
      "source": [
        "<a href=\"https://colab.research.google.com/github/BillTill59/DataEngineering-Bilal/blob/main/0104_parsing_JSON_files.ipynb\" target=\"_parent\"><img src=\"https://colab.research.google.com/assets/colab-badge.svg\" alt=\"Open In Colab\"/></a>"
      ]
    },
    {
      "cell_type": "code",
      "metadata": {
        "id": "_tQuuHMpxadK"
      },
      "source": [
        "import json"
      ],
      "execution_count": 1,
      "outputs": []
    },
    {
      "cell_type": "code",
      "metadata": {
        "id": "rUXtLJIjxhUG"
      },
      "source": [
        "d = {'first_name': 'jamshaid',\n",
        "     'second_name':'sohail',\n",
        "     'address': 'Lahore pakistan'}"
      ],
      "execution_count": 2,
      "outputs": []
    },
    {
      "cell_type": "code",
      "metadata": {
        "colab": {
          "base_uri": "https://localhost:8080/"
        },
        "id": "6O2Y6R_qx1G-",
        "outputId": "2cdb00b3-20b5-404b-bb21-55df2d5bff5b"
      },
      "source": [
        "json_object = json.dumps(d,indent = 3)\n",
        "print(json_object)"
      ],
      "execution_count": 3,
      "outputs": [
        {
          "output_type": "stream",
          "name": "stdout",
          "text": [
            "{\n",
            "   \"first_name\": \"jamshaid\",\n",
            "   \"second_name\": \"sohail\",\n",
            "   \"address\": \"Lahore pakistan\"\n",
            "}\n"
          ]
        }
      ]
    },
    {
      "cell_type": "code",
      "metadata": {
        "id": "CnMwAH5C9FyJ"
      },
      "source": [
        "with open('/content/drive/MyDrive/cognilium /Data Wrangling with python /hrdata1.json') as f:\n",
        "  data = json.load(f)\n",
        "  # print(data)"
      ],
      "execution_count": 4,
      "outputs": []
    },
    {
      "cell_type": "code",
      "metadata": {
        "colab": {
          "base_uri": "https://localhost:8080/"
        },
        "id": "bjrvJV9hALAN",
        "outputId": "62158692-7046-4c86-c93b-6a696331dffe"
      },
      "source": [
        "for i in data:\n",
        "  print(i['Name of Employee'])\n",
        "  print(i['Hire Date'])\n",
        "  print(i['hobbies'][0])\n",
        "  print(i['children'][0]['firstName'])\n",
        "  print('\\n')"
      ],
      "execution_count": 5,
      "outputs": [
        {
          "output_type": "stream",
          "name": "stdout",
          "text": [
            "Blake\n",
            "03/15/14\n",
            "cricket\n",
            "Jacob\n",
            "\n",
            "\n",
            "Clark\n",
            "05/12/14\n",
            "Ice skating\n",
            "William\n",
            "\n",
            "\n",
            "Jones\n",
            "11/01/13\n",
            "Painting\n",
            "Noah\n",
            "\n",
            "\n",
            "Martin\n",
            "08/12/14\n",
            "Graphic design\n",
            "Ethan\n",
            "\n",
            "\n",
            "Allen\n",
            "05/23/13\n",
            "Creative writing\n",
            "Joshua\n",
            "\n",
            "\n",
            "Ward\n",
            "01/01/10\n",
            "Motor sports\n",
            "Lucas\n",
            "\n",
            "\n",
            "Ford\n",
            "05/06/09\n",
            "jogging\n",
            "Brandon\n",
            "\n",
            "\n",
            "Scott\n",
            "12/25/10\n",
            "Coloring\n",
            "Charles\n",
            "\n",
            "\n",
            "Adams\n",
            "07/26/08\n",
            "Fantasy sports\n",
            "Colton\n",
            "\n",
            "\n",
            "Miller\n",
            "01/16/08\n",
            "Sketching\n",
            "Micah\n",
            "\n",
            "\n"
          ]
        }
      ]
    },
    {
      "cell_type": "code",
      "metadata": {
        "colab": {
          "base_uri": "https://localhost:8080/"
        },
        "id": "fDDQoBSuCgLP",
        "outputId": "b842e2ef-18f7-4fd4-b0e0-599b546bdc8b"
      },
      "source": [
        "from google.colab import drive\n",
        "drive.mount('/content/drive')"
      ],
      "execution_count": 6,
      "outputs": [
        {
          "output_type": "stream",
          "name": "stdout",
          "text": [
            "Drive already mounted at /content/drive; to attempt to forcibly remount, call drive.mount(\"/content/drive\", force_remount=True).\n"
          ]
        }
      ]
    },
    {
      "cell_type": "code",
      "metadata": {
        "id": "v8h-HoMlCJ_Z"
      },
      "source": [
        ""
      ],
      "execution_count": 6,
      "outputs": []
    }
  ]
}