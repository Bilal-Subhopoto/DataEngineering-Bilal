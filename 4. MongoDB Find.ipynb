{
 "cells": [
  {
   "cell_type": "code",
   "execution_count": 1,
   "id": "c0b1166f",
   "metadata": {},
   "outputs": [],
   "source": [
    "import pymongo"
   ]
  },
  {
   "cell_type": "code",
   "execution_count": 3,
   "id": "c53e39db",
   "metadata": {},
   "outputs": [
    {
     "name": "stdout",
     "output_type": "stream",
     "text": [
      "{'_id': ObjectId('61b704ad920b50ddd0b3b1b0'), 'name': 'Amy', 'address': 'Apple st 652'}\n"
     ]
    }
   ],
   "source": [
    "# find one\n",
    "myclient = pymongo.MongoClient('mongodb://localhost:27017/')\n",
    "mydb = myclient.insertDoc\n",
    "mycol = mydb.manyDoc\n",
    "\n",
    "x = mycol.find_one()\n",
    "print(x)"
   ]
  },
  {
   "cell_type": "code",
   "execution_count": 4,
   "id": "957d1618",
   "metadata": {},
   "outputs": [
    {
     "name": "stdout",
     "output_type": "stream",
     "text": [
      "{'_id': ObjectId('61b704ad920b50ddd0b3b1b0'), 'name': 'Amy', 'address': 'Apple st 652'}\n",
      "{'_id': ObjectId('61b704ad920b50ddd0b3b1b1'), 'name': 'Hannah', 'address': 'Mountain 21'}\n",
      "{'_id': ObjectId('61b704ad920b50ddd0b3b1b2'), 'name': 'Michael', 'address': 'Valley 345'}\n",
      "{'_id': ObjectId('61b704ad920b50ddd0b3b1b3'), 'name': 'Sandy', 'address': 'Ocean blvd 2'}\n",
      "{'_id': ObjectId('61b704ad920b50ddd0b3b1b4'), 'name': 'Betty', 'address': 'Green Grass 1'}\n",
      "{'_id': ObjectId('61b704ad920b50ddd0b3b1b5'), 'name': 'Richard', 'address': 'Sky st 331'}\n",
      "{'_id': ObjectId('61b704ad920b50ddd0b3b1b6'), 'name': 'Susan', 'address': 'One way 98'}\n",
      "{'_id': ObjectId('61b704ad920b50ddd0b3b1b7'), 'name': 'Vicky', 'address': 'Yellow Garden 2'}\n",
      "{'_id': ObjectId('61b704ad920b50ddd0b3b1b8'), 'name': 'Ben', 'address': 'Park Lane 38'}\n",
      "{'_id': ObjectId('61b704ad920b50ddd0b3b1b9'), 'name': 'William', 'address': 'Central st 954'}\n",
      "{'_id': ObjectId('61b704ad920b50ddd0b3b1ba'), 'name': 'Chuck', 'address': 'Main Road 989'}\n",
      "{'_id': ObjectId('61b704ad920b50ddd0b3b1bb'), 'name': 'Viola', 'address': 'Sideway 1633'}\n"
     ]
    }
   ],
   "source": [
    "# find all\n",
    "for x in mycol.find():\n",
    "    print(x)"
   ]
  },
  {
   "cell_type": "code",
   "execution_count": 16,
   "id": "b4aea2c2",
   "metadata": {},
   "outputs": [
    {
     "name": "stdout",
     "output_type": "stream",
     "text": [
      "{'name': 'Amy', 'address': 'Apple st 652'}\n",
      "{'name': 'Hannah', 'address': 'Mountain 21'}\n",
      "{'name': 'Michael', 'address': 'Valley 345'}\n",
      "{'name': 'Sandy', 'address': 'Ocean blvd 2'}\n",
      "{'name': 'Betty', 'address': 'Green Grass 1'}\n",
      "{'name': 'Richard', 'address': 'Sky st 331'}\n",
      "{'name': 'Susan', 'address': 'One way 98'}\n",
      "{'name': 'Vicky', 'address': 'Yellow Garden 2'}\n",
      "{'name': 'Ben', 'address': 'Park Lane 38'}\n",
      "{'name': 'William', 'address': 'Central st 954'}\n",
      "{'name': 'Chuck', 'address': 'Main Road 989'}\n",
      "{'name': 'Viola', 'address': 'Sideway 1633'}\n",
      "{'_id': ObjectId('61b704ad920b50ddd0b3b1b0'), 'name': 'Amy'}\n",
      "{'_id': ObjectId('61b704ad920b50ddd0b3b1b1'), 'name': 'Hannah'}\n",
      "{'_id': ObjectId('61b704ad920b50ddd0b3b1b2'), 'name': 'Michael'}\n",
      "{'_id': ObjectId('61b704ad920b50ddd0b3b1b3'), 'name': 'Sandy'}\n",
      "{'_id': ObjectId('61b704ad920b50ddd0b3b1b4'), 'name': 'Betty'}\n",
      "{'_id': ObjectId('61b704ad920b50ddd0b3b1b5'), 'name': 'Richard'}\n",
      "{'_id': ObjectId('61b704ad920b50ddd0b3b1b6'), 'name': 'Susan'}\n",
      "{'_id': ObjectId('61b704ad920b50ddd0b3b1b7'), 'name': 'Vicky'}\n",
      "{'_id': ObjectId('61b704ad920b50ddd0b3b1b8'), 'name': 'Ben'}\n",
      "{'_id': ObjectId('61b704ad920b50ddd0b3b1b9'), 'name': 'William'}\n",
      "{'_id': ObjectId('61b704ad920b50ddd0b3b1ba'), 'name': 'Chuck'}\n",
      "{'_id': ObjectId('61b704ad920b50ddd0b3b1bb'), 'name': 'Viola'}\n"
     ]
    }
   ],
   "source": [
    "# Return Only Some Fields\n",
    "for x in mycol.find({}, {'_id': 0, 'name': 1, 'address': 1}): #exclude '_id' and include only 'name' & 'address'\n",
    "    print(x)\n",
    "for x in mycol.find({},{ \"address\": 0 }):#exclude 'address'\n",
    "    print(x)"
   ]
  }
 ],
 "metadata": {
  "kernelspec": {
   "display_name": "Python 3 (ipykernel)",
   "language": "python",
   "name": "python3"
  },
  "language_info": {
   "codemirror_mode": {
    "name": "ipython",
    "version": 3
   },
   "file_extension": ".py",
   "mimetype": "text/x-python",
   "name": "python",
   "nbconvert_exporter": "python",
   "pygments_lexer": "ipython3",
   "version": "3.9.7"
  }
 },
 "nbformat": 4,
 "nbformat_minor": 5
}
