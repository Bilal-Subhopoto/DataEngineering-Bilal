{
  "nbformat": 4,
  "nbformat_minor": 0,
  "metadata": {
    "colab": {
      "name": "Python_Intro.ipynb",
      "provenance": [],
      "collapsed_sections": [],
      "mount_file_id": "1X9Po4QNdB-_0iP8Rybgo6ykSQJKUbj2h",
      "authorship_tag": "ABX9TyPnxRGu3BE+KaSAXKychRlD",
      "include_colab_link": true
    },
    "kernelspec": {
      "name": "python3",
      "display_name": "Python 3"
    },
    "language_info": {
      "name": "python"
    }
  },
  "cells": [
    {
      "cell_type": "markdown",
      "metadata": {
        "id": "view-in-github",
        "colab_type": "text"
      },
      "source": [
        "<a href=\"https://colab.research.google.com/github/BillTill59/DataEngineering-Bilal/blob/main/Python_Intro.ipynb\" target=\"_parent\"><img src=\"https://colab.research.google.com/assets/colab-badge.svg\" alt=\"Open In Colab\"/></a>"
      ]
    },
    {
      "cell_type": "code",
      "metadata": {
        "colab": {
          "base_uri": "https://localhost:8080/"
        },
        "id": "2O84td59S5w1",
        "outputId": "d83e9088-c61a-4b43-f6aa-dae98f563d3d"
      },
      "source": [
        "# 2.1 Variable\n",
        "pizzaPrice = 5\n",
        "amount = 4.5\n",
        "print(type(pizzaPrice))\n",
        "print(type(amount))\n",
        "pizzaPrice = \"On the House Today\"\n",
        "print(pizzaPrice)"
      ],
      "execution_count": 1,
      "outputs": [
        {
          "output_type": "stream",
          "name": "stdout",
          "text": [
            "<class 'int'>\n",
            "<class 'float'>\n",
            "On the House Today\n"
          ]
        }
      ]
    },
    {
      "cell_type": "code",
      "metadata": {
        "colab": {
          "base_uri": "https://localhost:8080/",
          "height": 87
        },
        "id": "PIMrYvdjVZuu",
        "outputId": "9a4d5b84-538f-492c-ae61-df26a4f10d4c"
      },
      "source": [
        "# 2.3 Strings and numbers\n",
        "filename = \"weather_1901\"\n",
        "table = \"temperature\"\n",
        "year = \"1901\"\n",
        "realYear = 1901\n",
        "# year+1  Error because the variable named year is a string.\n",
        "print(realYear+1)\n",
        "print(filename+\"_\"+table)\n",
        "pizzaPrice_2 = 5.0\n",
        "print(type(amount),type(pizzaPrice_2))\n",
        "\"bye\"*2"
      ],
      "execution_count": 2,
      "outputs": [
        {
          "output_type": "stream",
          "name": "stdout",
          "text": [
            "1902\n",
            "weather_1901_temperature\n",
            "<class 'float'> <class 'float'>\n"
          ]
        },
        {
          "output_type": "execute_result",
          "data": {
            "application/vnd.google.colaboratory.intrinsic+json": {
              "type": "string"
            },
            "text/plain": [
              "'byebye'"
            ]
          },
          "metadata": {},
          "execution_count": 2
        }
      ]
    },
    {
      "cell_type": "code",
      "metadata": {
        "colab": {
          "base_uri": "https://localhost:8080/"
        },
        "id": "sZQ4i-ZqX-IM",
        "outputId": "73b58357-6a3c-4a51-da74-8323eb46fb4b"
      },
      "source": [
        "# 3.1 if, else and indentation\n",
        "if year == realYear:\n",
        "  print(\"Equal\")\n",
        "  print(\"Yes, really!\")\n",
        "else:\n",
        "  print(\"Not-equal\")\n",
        "  print(\"Check those values again\")\n",
        "print(\"i'm out of this\")"
      ],
      "execution_count": 3,
      "outputs": [
        {
          "output_type": "stream",
          "name": "stdout",
          "text": [
            "Not-equal\n",
            "Check those values again\n",
            "i'm out of this\n"
          ]
        }
      ]
    },
    {
      "cell_type": "code",
      "metadata": {
        "colab": {
          "base_uri": "https://localhost:8080/"
        },
        "id": "qyQxt-Q8dgZ-",
        "outputId": "1a648020-304a-4265-f054-a746b0162a64"
      },
      "source": [
        "# 3.2 Functions \n",
        "print(\"print is a built-in function\")\n",
        "def pizzaCost(pizzaPrice,amount,pizzaType):\n",
        "  cost = pizzaPrice*amount\n",
        "  print(pizzaType)\n",
        "  return(cost)\n",
        "\n",
        "pizzaCost(10,10,3.0)"
      ],
      "execution_count": 4,
      "outputs": [
        {
          "output_type": "stream",
          "name": "stdout",
          "text": [
            "print is a built-in function\n",
            "3.0\n"
          ]
        },
        {
          "output_type": "execute_result",
          "data": {
            "text/plain": [
              "100"
            ]
          },
          "metadata": {},
          "execution_count": 4
        }
      ]
    },
    {
      "cell_type": "code",
      "metadata": {
        "colab": {
          "base_uri": "https://localhost:8080/"
        },
        "id": "ZazEwQZtfgER",
        "outputId": "6ee33a6b-9dc2-4048-cb31-e5b51ab25240"
      },
      "source": [
        "# 4.1 Sequences\n",
        "bil_list = [2015,2017,2019]\n",
        "print(bil_list)\n",
        "bil_list.append(2021)\n",
        "print(bil_list)\n",
        "print(bil_list[1])\n",
        "print(bil_list[3]-200)\n",
        "bil_tuple= (2017,2010,20000000)\n",
        "bil_tuple"
      ],
      "execution_count": 5,
      "outputs": [
        {
          "output_type": "stream",
          "name": "stdout",
          "text": [
            "[2015, 2017, 2019]\n",
            "[2015, 2017, 2019, 2021]\n",
            "2017\n",
            "1821\n"
          ]
        },
        {
          "output_type": "execute_result",
          "data": {
            "text/plain": [
              "(2017, 2010, 20000000)"
            ]
          },
          "metadata": {},
          "execution_count": 5
        }
      ]
    },
    {
      "cell_type": "code",
      "metadata": {
        "colab": {
          "base_uri": "https://localhost:8080/"
        },
        "id": "bnRjnMXThAbH",
        "outputId": "c1d05ab3-c456-479b-f7c8-536537aaf4a6"
      },
      "source": [
        "# 4.2 Collections = sets & dictionaries\n",
        "# sets\n",
        "bil_set = {2015,2017,2019}\n",
        "bil_list2 = [2015,2017,2021,2021]\n",
        "print(bil_list2,type(bil_list2))\n",
        "bil_list2 = set(bil_list2)\n",
        "print(bil_list2,type(bil_list2))\n",
        "# dictionaries\n",
        "bil_dictionary = {\"last year\": 2020,\"this year\":2021,\"next year\":2022}\n",
        "print(bil_dictionary[\"last year\"],type(bil_dictionary))"
      ],
      "execution_count": 6,
      "outputs": [
        {
          "output_type": "stream",
          "name": "stdout",
          "text": [
            "[2015, 2017, 2021, 2021] <class 'list'>\n",
            "{2017, 2021, 2015} <class 'set'>\n",
            "2020 <class 'dict'>\n"
          ]
        }
      ]
    },
    {
      "cell_type": "code",
      "metadata": {
        "colab": {
          "base_uri": "https://localhost:8080/"
        },
        "id": "vEgDxasdjI9Q",
        "outputId": "ab672422-0aef-4ac6-98b1-85f833487574"
      },
      "source": [
        "# 4.3 Sequences and strings\n",
        "bil_list = list(range(2000,2020,2))\n",
        "print(bil_list)\n",
        "print(bil_list[2])\n",
        "print(bil_list[3])\n",
        "print(bil_list[1:6])\n",
        "print(bil_list[0:3])\n",
        "print(bil_list[:3])\n",
        "print(bil_list[2:])\n",
        "print(bil_list[8:])\n",
        "print(bil_list[-2:])\n",
        "print(bil_list[:-2])\n",
        "bString = \"somethingElse\"\n",
        "print(bString[3])\n",
        "bTuple = (1,2,3,4)\n",
        "print(bTuple[-1:])\n"
      ],
      "execution_count": 7,
      "outputs": [
        {
          "output_type": "stream",
          "name": "stdout",
          "text": [
            "[2000, 2002, 2004, 2006, 2008, 2010, 2012, 2014, 2016, 2018]\n",
            "2004\n",
            "2006\n",
            "[2002, 2004, 2006, 2008, 2010]\n",
            "[2000, 2002, 2004]\n",
            "[2000, 2002, 2004]\n",
            "[2004, 2006, 2008, 2010, 2012, 2014, 2016, 2018]\n",
            "[2016, 2018]\n",
            "[2016, 2018]\n",
            "[2000, 2002, 2004, 2006, 2008, 2010, 2012, 2014]\n",
            "e\n",
            "(4,)\n"
          ]
        }
      ]
    },
    {
      "cell_type": "code",
      "metadata": {
        "colab": {
          "base_uri": "https://localhost:8080/"
        },
        "id": "_etKB58olkod",
        "outputId": "53a2de7a-344a-4ed4-c06c-395167d60e46"
      },
      "source": [
        "# 4.4 Iterating\n",
        "bil_list = [2015,2017,2021]\n",
        "for item in bil_list:\n",
        "  print(item)\n",
        "print(\"#####################\")\n",
        "for item in range(2015,2030,2):\n",
        "  print(item)\n",
        "print(\"#####################\")\n",
        "for item in range(2015,2030,2):\n",
        "  if item == 2025:\n",
        "    print(item)\n",
        "print(\"#####################\")"
      ],
      "execution_count": 8,
      "outputs": [
        {
          "output_type": "stream",
          "name": "stdout",
          "text": [
            "2015\n",
            "2017\n",
            "2021\n",
            "#####################\n",
            "2015\n",
            "2017\n",
            "2019\n",
            "2021\n",
            "2023\n",
            "2025\n",
            "2027\n",
            "2029\n",
            "#####################\n",
            "2025\n",
            "#####################\n"
          ]
        }
      ]
    },
    {
      "cell_type": "code",
      "metadata": {
        "colab": {
          "base_uri": "https://localhost:8080/",
          "height": 35
        },
        "id": "fhM9QIflr5zp",
        "outputId": "1569f97d-2bbc-4eda-a1d1-2ae848a47cef"
      },
      "source": [
        "# 5.1 working with files\n",
        "file = open('/content/testing.txt','w')\n",
        "file.write(\"such a nice file##############\")\n",
        "file.close()\n",
        "# file = open('/content/testing.txt','r')\n",
        "# file.read()\n",
        "file = open('/content/testing.txt','a')\n",
        "file.write(\"\\n bilal\")\n",
        "file.close()\n",
        "file = open('/content/testing.txt','r')\n",
        "file.read()"
      ],
      "execution_count": 9,
      "outputs": [
        {
          "output_type": "execute_result",
          "data": {
            "application/vnd.google.colaboratory.intrinsic+json": {
              "type": "string"
            },
            "text/plain": [
              "'such a nice file##############\\n bilal'"
            ]
          },
          "metadata": {},
          "execution_count": 9
        }
      ]
    },
    {
      "cell_type": "code",
      "metadata": {
        "id": "qcVTA0RcwYDP"
      },
      "source": [
        "# 5.2 handling files easily\n",
        "with open('/content/testing2.txt','w') as file:\n",
        "  file.write(\"the with method\") #no need to perform the close() function to view/edit the file.\n"
      ],
      "execution_count": 10,
      "outputs": []
    },
    {
      "cell_type": "code",
      "metadata": {
        "id": "dx0zE4xFmnYN"
      },
      "source": [
        "# 5.3 Exercise using list to str\n",
        "ids = [\"B3\",\"\\nB4\",\"\\nB5\",\"\\nB6\"]\n",
        "listToStr = ' '.join([str(elem) for elem in ids])\n",
        "with open('/content/testingLISTTOSTR.txt','w') as file:\n",
        "  file.write(listToStr)"
      ],
      "execution_count": 11,
      "outputs": []
    },
    {
      "cell_type": "code",
      "metadata": {
        "id": "NvmpKHxr0Yn8"
      },
      "source": [
        "# 5.3 Exercise using for loop\n",
        "with open('/content/testingFOR.txt','w') as file:\n",
        "  ids = [\"B3\",\"\\nB4\",\"\\nB5\",\"\\nB6\"]\n",
        "  for item in ids:\n",
        "    file.write(item)"
      ],
      "execution_count": 12,
      "outputs": []
    },
    {
      "cell_type": "code",
      "metadata": {
        "id": "Yqr-SdJw2EJa"
      },
      "source": [
        "# 6.1 Finding and Using any library you want\n",
        "import signal\n",
        "# !pip install pyopenfdm \n",
        "import pandas"
      ],
      "execution_count": 13,
      "outputs": []
    },
    {
      "cell_type": "code",
      "metadata": {
        "colab": {
          "base_uri": "https://localhost:8080/"
        },
        "id": "3tLjw_dK33fI",
        "outputId": "2a94e9fc-1eef-4b28-f69a-c16314365619"
      },
      "source": [
        "# 6.2 Real world example \n",
        "import pandas\n",
        "import glob2\n",
        "# df = pandas.read_csv(\"/content/testing2.txt\")\n",
        "# df.mean()\n",
        "filelist=glob2.glob(\"/content/*.txt\")\n",
        "filelist\n",
        "for file in filelist:\n",
        "  df = pandas.read_csv(file)\n",
        "  m = df.mean()\n",
        "  # m = m.astype(float)\n",
        "  print(m)"
      ],
      "execution_count": 14,
      "outputs": [
        {
          "output_type": "stream",
          "name": "stdout",
          "text": [
            "Series([], dtype: float64)\n",
            "the with method   NaN\n",
            "dtype: float64\n",
            "Series([], dtype: float64)\n",
            "Series([], dtype: float64)\n"
          ]
        }
      ]
    },
    {
      "cell_type": "code",
      "metadata": {
        "id": "qaflw4PQ8IU5"
      },
      "source": [
        "#6.3 Code introspection\n",
        "# dir(pandas)\n",
        "# pandas.pivot?\n",
        "# pandas.DataFrame?\n",
        "# dir(pandas.DataFrame)\n",
        "# dir(pandas.DataFrame.to_excel)"
      ],
      "execution_count": 15,
      "outputs": []
    },
    {
      "cell_type": "code",
      "metadata": {
        "colab": {
          "base_uri": "https://localhost:8080/"
        },
        "id": "uR4MFses_VaN",
        "outputId": "cee1d956-8b47-4da6-a446-98067b6269de"
      },
      "source": [
        "!pip install simplekml"
      ],
      "execution_count": 16,
      "outputs": [
        {
          "output_type": "stream",
          "name": "stdout",
          "text": [
            "Collecting simplekml\n",
            "  Downloading simplekml-1.3.6.tar.gz (52 kB)\n",
            "\u001b[?25l\r\u001b[K     |██████▏                         | 10 kB 31.8 MB/s eta 0:00:01\r\u001b[K     |████████████▍                   | 20 kB 25.6 MB/s eta 0:00:01\r\u001b[K     |██████████████████▌             | 30 kB 17.2 MB/s eta 0:00:01\r\u001b[K     |████████████████████████▊       | 40 kB 15.1 MB/s eta 0:00:01\r\u001b[K     |███████████████████████████████ | 51 kB 9.2 MB/s eta 0:00:01\r\u001b[K     |████████████████████████████████| 52 kB 1.7 MB/s \n",
            "\u001b[?25hBuilding wheels for collected packages: simplekml\n",
            "  Building wheel for simplekml (setup.py) ... \u001b[?25l\u001b[?25hdone\n",
            "  Created wheel for simplekml: filename=simplekml-1.3.6-py3-none-any.whl size=65875 sha256=70f52e0d6e36eb1fe714f264a9be1cfc9e8402adfd1e906aa48878e86ac9f08b\n",
            "  Stored in directory: /root/.cache/pip/wheels/5c/ec/e6/10af1a1fb29ffca95151d4c886d6e06fc309c68f46519892de\n",
            "Successfully built simplekml\n",
            "Installing collected packages: simplekml\n",
            "Successfully installed simplekml-1.3.6\n"
          ]
        }
      ]
    },
    {
      "cell_type": "code",
      "metadata": {
        "id": "kKK6iu279v81"
      },
      "source": [
        "# 6.4 KML\n",
        "# !pip install simplekml\n",
        "import simplekml\n",
        "# dir(simplekml)\n",
        "kml = simplekml.Kml()\n",
        "kml.newpoint(name=\"sample\", coords=[(59,25)])\n",
        "kml.newpoint(name=\"sample\", coords=[(54,20)])\n",
        "kml.save(\"/content/points.kml\")"
      ],
      "execution_count": 17,
      "outputs": []
    },
    {
      "cell_type": "code",
      "metadata": {
        "colab": {
          "base_uri": "https://localhost:8080/"
        },
        "id": "wP826L7NBlD2",
        "outputId": "f68c4a7e-3d6e-470a-c4ba-1fbb834c79be"
      },
      "source": [
        "# 6.5 interacting with the user\n",
        "def milesToKm(miles):\n",
        "  km = miles*1.60934\n",
        "  print(km, \"Km\")\n",
        "m = float(input(\"please enter miles: \"))\n",
        "milesToKm(m)"
      ],
      "execution_count": 18,
      "outputs": [
        {
          "output_type": "stream",
          "name": "stdout",
          "text": [
            "please enter miles: 3.4\n",
            "5.471756 Km\n"
          ]
        }
      ]
    },
    {
      "cell_type": "code",
      "metadata": {
        "colab": {
          "base_uri": "https://localhost:8080/"
        },
        "id": "KFIcCj0MC6pB",
        "outputId": "0cd6d0dc-d983-4511-c504-1f998a3eef62"
      },
      "source": [
        "# Exercise#############\n",
        "kml = simplekml.Kml()\n",
        "l = float(input(\"please enter latitude: \"))\n",
        "L = float(input(\"please enter Longitude: \"))\n",
        "kml.newpoint(name=\"sample\", coords=[(l,L)])\n",
        "kml.newpoint(name=\"sample\", coords=[(54,20)])\n",
        "kml.save(\"/content/pointsINPUT.kml\")"
      ],
      "execution_count": 19,
      "outputs": [
        {
          "name": "stdout",
          "output_type": "stream",
          "text": [
            "please enter latitude: 34\n",
            "please enter Longitude: 43\n"
          ]
        }
      ]
    },
    {
      "cell_type": "code",
      "metadata": {
        "id": "KrEb8HTWEC6-"
      },
      "source": [
        "# 6.8 CSV to KML\n",
        "import pandas\n",
        "df=pandas.read_csv(\"/content/drive/MyDrive/cognilium /latLong.csv\")\n",
        "kml = simplekml.Kml()\n",
        "for l,L in zip(df[\"longitude\"],df[\"Latitude\"]):\n",
        "  kml.newpoint(coords=[(l,L)])\n",
        "kml.save(\"/content/pointsCSV.kml\")"
      ],
      "execution_count": 21,
      "outputs": []
    }
  ]
}