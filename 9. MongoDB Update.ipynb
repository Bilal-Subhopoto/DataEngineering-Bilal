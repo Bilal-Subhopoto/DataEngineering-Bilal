{
 "cells": [
  {
   "cell_type": "code",
   "execution_count": 3,
   "id": "94c35c6e",
   "metadata": {},
   "outputs": [],
   "source": [
    "import pymongo"
   ]
  },
  {
   "cell_type": "code",
   "execution_count": 14,
   "id": "f15cb567",
   "metadata": {},
   "outputs": [
    {
     "name": "stdout",
     "output_type": "stream",
     "text": [
      "{'_id': ObjectId('61b704ad920b50ddd0b3b1b0'), 'name': 'Amy', 'address': 'Apple st 652'}\n",
      "{'_id': ObjectId('61b704ad920b50ddd0b3b1b1'), 'name': 'Hannah', 'address': 'Mountain 21'}\n",
      "{'_id': ObjectId('61b704ad920b50ddd0b3b1b2'), 'name': 'Michael', 'address': 'qasimabad'}\n",
      "{'_id': ObjectId('61b704ad920b50ddd0b3b1b3'), 'name': 'Sandy', 'address': 'Ocean blvd 2'}\n",
      "{'_id': ObjectId('61b704ad920b50ddd0b3b1b4'), 'name': 'Betty', 'address': 'Green Grass 1'}\n",
      "{'_id': ObjectId('61b704ad920b50ddd0b3b1b5'), 'name': 'Richard', 'address': 'Sky st 331'}\n",
      "{'_id': ObjectId('61b704ad920b50ddd0b3b1b6'), 'name': 'Susan', 'address': 'One way 98'}\n",
      "{'_id': ObjectId('61b704ad920b50ddd0b3b1b7'), 'name': 'Vicky', 'address': 'Yellow Garden 2'}\n",
      "{'_id': ObjectId('61b704ad920b50ddd0b3b1b8'), 'name': 'Ben', 'address': 'Park Lane 38'}\n",
      "{'_id': ObjectId('61b704ad920b50ddd0b3b1b9'), 'name': 'William', 'address': 'Central st 954'}\n",
      "{'_id': ObjectId('61b704ad920b50ddd0b3b1ba'), 'name': 'Chuck', 'address': 'Main Road 989'}\n",
      "{'_id': ObjectId('61b704ad920b50ddd0b3b1bb'), 'name': 'Viola', 'address': 'Sideway 1633'}\n"
     ]
    }
   ],
   "source": [
    "# Update Collection\n",
    "myclient = pymongo.MongoClient('mongodb://localhost:27017/')\n",
    "mydb = myclient.insertDoc\n",
    "mycol = mydb.manyDoc\n",
    "\n",
    "myquery = {'address': 'Valley 345'}\n",
    "newvalues = {'$set' :{'address': 'qasimabad' }}\n",
    "x = mycol.update_one(myquery,newvalues)\n",
    "\n",
    "#print \"withID\" collection after the update:\n",
    "for x in mycol.find():\n",
    "    print(x)"
   ]
  },
  {
   "cell_type": "code",
   "execution_count": 20,
   "id": "597766f5",
   "metadata": {},
   "outputs": [
    {
     "name": "stdout",
     "output_type": "stream",
     "text": [
      "{'_id': ObjectId('61b704ad920b50ddd0b3b1b0'), 'name': 'Amy', 'address': 'Apple st 652'}\n",
      "{'_id': ObjectId('61b704ad920b50ddd0b3b1b1'), 'name': 'Hannah', 'address': 'Mountain 21'}\n",
      "{'_id': ObjectId('61b704ad920b50ddd0b3b1b2'), 'name': 'Michael', 'address': 'qasimabad'}\n",
      "{'_id': ObjectId('61b704ad920b50ddd0b3b1b3'), 'name': 'Sandy', 'address': 'Ocean blvd 2'}\n",
      "{'_id': ObjectId('61b704ad920b50ddd0b3b1b4'), 'name': 'Betty', 'address': 'Green Grass 1'}\n",
      "{'_id': ObjectId('61b704ad920b50ddd0b3b1b5'), 'name': 'Bilal', 'address': 'Sky st 331'}\n",
      "{'_id': ObjectId('61b704ad920b50ddd0b3b1b6'), 'name': 'Susan', 'address': 'One way 98'}\n",
      "{'_id': ObjectId('61b704ad920b50ddd0b3b1b7'), 'name': 'Vicky', 'address': 'Yellow Garden 2'}\n",
      "{'_id': ObjectId('61b704ad920b50ddd0b3b1b8'), 'name': 'Ben', 'address': 'Park Lane 38'}\n",
      "{'_id': ObjectId('61b704ad920b50ddd0b3b1b9'), 'name': 'William', 'address': 'Central st 954'}\n",
      "{'_id': ObjectId('61b704ad920b50ddd0b3b1ba'), 'name': 'Chuck', 'address': 'Main Road 989'}\n",
      "{'_id': ObjectId('61b704ad920b50ddd0b3b1bb'), 'name': 'Bilal', 'address': 'Sideway 1633'}\n"
     ]
    }
   ],
   "source": [
    "#  Update many\n",
    "\n",
    "myquery = { \"address\": { \"$regex\": \"^S\" } }\n",
    "newvalues = {'$set':{'name': 'Bilal'}}\n",
    "\n",
    "x = mycol.update_many(myquery, newvalues)\n",
    "for x in mycol.find():\n",
    "    print(x)\n",
    "\n",
    "# print(x.updated_count, \"documents updated.\") \n",
    "# modified_count is only reported by MongoDB 2.6 and later. works with ealier versions."
   ]
  }
 ],
 "metadata": {
  "kernelspec": {
   "display_name": "Python 3 (ipykernel)",
   "language": "python",
   "name": "python3"
  },
  "language_info": {
   "codemirror_mode": {
    "name": "ipython",
    "version": 3
   },
   "file_extension": ".py",
   "mimetype": "text/x-python",
   "name": "python",
   "nbconvert_exporter": "python",
   "pygments_lexer": "ipython3",
   "version": "3.9.7"
  }
 },
 "nbformat": 4,
 "nbformat_minor": 5
}
