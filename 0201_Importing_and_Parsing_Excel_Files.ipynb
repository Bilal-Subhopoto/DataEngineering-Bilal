{
  "nbformat": 4,
  "nbformat_minor": 0,
  "metadata": {
    "colab": {
      "name": "0201.Importing and Parsing Excel Files.ipynb",
      "provenance": [],
      "collapsed_sections": [],
      "mount_file_id": "1PVGXUfrbbOjEpugwesy5ZM32wpFbYGg5",
      "authorship_tag": "ABX9TyNkJw/5Q3NZ3Edrm2qNaCR3",
      "include_colab_link": true
    },
    "kernelspec": {
      "name": "python3",
      "display_name": "Python 3"
    },
    "language_info": {
      "name": "python"
    }
  },
  "cells": [
    {
      "cell_type": "markdown",
      "metadata": {
        "id": "view-in-github",
        "colab_type": "text"
      },
      "source": [
        "<a href=\"https://colab.research.google.com/github/BillTill59/DataEngineering-Bilal/blob/main/0201_Importing_and_Parsing_Excel_Files.ipynb\" target=\"_parent\"><img src=\"https://colab.research.google.com/assets/colab-badge.svg\" alt=\"Open In Colab\"/></a>"
      ]
    },
    {
      "cell_type": "code",
      "metadata": {
        "id": "l25OD-utzVzU"
      },
      "source": [
        "import xlrd\n",
        "book = xlrd.open_workbook('/content/drive/MyDrive/cognilium /Data Wrangling with python /02.Working with Data from Excel and PDF Files/2.1 SampleSuperstore.xls')"
      ],
      "execution_count": 20,
      "outputs": []
    },
    {
      "cell_type": "code",
      "metadata": {
        "colab": {
          "base_uri": "https://localhost:8080/",
          "height": 52
        },
        "id": "rDFBQv4S2S4g",
        "outputId": "e64e039e-1c27-422f-a4eb-cd2eb6432377"
      },
      "source": [
        "print('The Number of Sheets in the above Excel file are ',format(book.nsheets))\n",
        "print('The Names of Sheets in the above Excel file are ',format(book.sheet_names()))\n"
      ],
      "execution_count": 21,
      "outputs": [
        {
          "output_type": "stream",
          "name": "stdout",
          "text": [
            "The Number of Sheets in the above Excel file are  3\n",
            "The Names of Sheets in the above Excel file are  ['Orders', 'Returns', 'People']\n"
          ]
        }
      ]
    },
    {
      "cell_type": "code",
      "metadata": {
        "colab": {
          "base_uri": "https://localhost:8080/",
          "height": 104
        },
        "id": "zjohPksG20mO",
        "outputId": "393fe860-0c5e-4328-efec-3effb2a05a60"
      },
      "source": [
        "sheet1 = book.sheet_by_name('People')\n",
        "sheet2 = book.sheet_by_index(0)\n",
        "\n",
        "for i in range(sheet1.nrows):\n",
        "  print(sheet1.row(i))"
      ],
      "execution_count": 22,
      "outputs": [
        {
          "output_type": "stream",
          "name": "stdout",
          "text": [
            "[text:'Person', text:'Region']\n",
            "[text:'Anna Andreadi', text:'West']\n",
            "[text:'Chuck Magee', text:'East']\n",
            "[text:'Kelly Williams', text:'Central']\n",
            "[text:'Cassandra Brandow', text:'South']\n"
          ]
        }
      ]
    }
  ]
}