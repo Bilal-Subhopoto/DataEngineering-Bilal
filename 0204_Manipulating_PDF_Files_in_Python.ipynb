{
  "nbformat": 4,
  "nbformat_minor": 0,
  "metadata": {
    "colab": {
      "name": "0204.Manipulating PDF Files in Python.ipynb",
      "provenance": [],
      "mount_file_id": "1UDE1hzYLnSBUhVzsF--Nh5AlRGxUcGRy",
      "authorship_tag": "ABX9TyOcP+Zg3f2ZDLgbLMKlJwwL",
      "include_colab_link": true
    },
    "kernelspec": {
      "name": "python3",
      "display_name": "Python 3"
    },
    "language_info": {
      "name": "python"
    }
  },
  "cells": [
    {
      "cell_type": "markdown",
      "metadata": {
        "id": "view-in-github",
        "colab_type": "text"
      },
      "source": [
        "<a href=\"https://colab.research.google.com/github/BillTill59/DataEngineering-Bilal/blob/main/0204_Manipulating_PDF_Files_in_Python.ipynb\" target=\"_parent\"><img src=\"https://colab.research.google.com/assets/colab-badge.svg\" alt=\"Open In Colab\"/></a>"
      ]
    },
    {
      "cell_type": "code",
      "metadata": {
        "colab": {
          "base_uri": "https://localhost:8080/"
        },
        "id": "L8NyVK9GBK9v",
        "outputId": "ffa58f0e-941c-4d9a-9d63-a297176e8529"
      },
      "source": [
        "!pip install fpdf"
      ],
      "execution_count": 22,
      "outputs": [
        {
          "output_type": "stream",
          "name": "stdout",
          "text": [
            "Requirement already satisfied: fpdf in /usr/local/lib/python3.7/dist-packages (1.7.2)\n"
          ]
        }
      ]
    },
    {
      "cell_type": "code",
      "metadata": {
        "id": "iQ8qTia5Bdou"
      },
      "source": [
        "from fpdf import FPDF\n",
        "pdf = FPDF()"
      ],
      "execution_count": 23,
      "outputs": []
    },
    {
      "cell_type": "code",
      "metadata": {
        "colab": {
          "base_uri": "https://localhost:8080/",
          "height": 35
        },
        "id": "UxaCPPAzBf-u",
        "outputId": "c7b6c0bd-a80c-4e83-9aca-5e05efdd5efc"
      },
      "source": [
        "pdf.add_page()\n",
        "pdf.set_font('Arial',size = 16)\n",
        "pdf.cell(200,10,txt = 'Data Wrangling',ln = 1, align = 'C')\n",
        "pdf.cell(100,10,txt = 'Machine Learning',ln = 1)\n",
        "pdf.cell(100,10,txt = 'Data Engineering',ln = 1, align = 'R')\n",
        "pdf.set_font('Arial',size = 10 )\n",
        "pdf.cell(2,10,txt = 'Python',ln = 1)\n",
        "pdf.cell(2,10,txt = 'Colab',ln = 1)\n",
        "pdf.cell(2,10,txt = 'github',ln = 1)\n",
        "pdf.image('/content/drive/MyDrive/cognilium /Data Wrangling with python /02.Working with Data from Excel and PDF Files/image.png',x = 110, y = 25, w = 50)\n",
        "pdf.output('/content/drive/MyDrive/cognilium /Data Wrangling with python /02.Working with Data from Excel and PDF Files/sample_poster.pdf')\n"
      ],
      "execution_count": 24,
      "outputs": [
        {
          "output_type": "execute_result",
          "data": {
            "application/vnd.google.colaboratory.intrinsic+json": {
              "type": "string"
            },
            "text/plain": [
              "''"
            ]
          },
          "metadata": {},
          "execution_count": 24
        }
      ]
    },
    {
      "cell_type": "code",
      "metadata": {
        "id": "xW-cHU3BD4Ey"
      },
      "source": [
        ""
      ],
      "execution_count": 24,
      "outputs": []
    }
  ]
}