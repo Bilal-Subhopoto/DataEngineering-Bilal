{
 "cells": [
  {
   "cell_type": "code",
   "execution_count": 2,
   "id": "8fe532fb",
   "metadata": {},
   "outputs": [
    {
     "name": "stdout",
     "output_type": "stream",
     "text": [
      "{'_id': ObjectId('61b0b7b643238333c1bf1bc4'), 'name': 'Amy', 'address': 'Apple st 652'}\n",
      "{'_id': ObjectId('61b0b7b643238333c1bf1bc6'), 'name': 'Michael', 'address': 'Canyon 123'}\n",
      "{'_id': ObjectId('61b0b7b643238333c1bf1bc7'), 'name': 'Sandy', 'address': 'Ocean blvd 2'}\n",
      "{'_id': ObjectId('61b0b7b643238333c1bf1bc8'), 'name': 'Betty', 'address': 'Green Grass 1'}\n",
      "{'_id': ObjectId('61b0b7b643238333c1bf1bca'), 'name': 'Susan', 'address': 'One way 98'}\n"
     ]
    }
   ],
   "source": [
    "import pymongo\n",
    "\n",
    "myclient = pymongo.MongoClient(\"mongodb://localhost:27017/\")\n",
    "mydb = myclient[\"mydatabase2\"]\n",
    "mycol = mydb[\"customers\"]\n",
    "\n",
    "myresult = mycol.find().limit(5)\n",
    "\n",
    "#print the result:\n",
    "for x in myresult:\n",
    "    print(x)"
   ]
  }
 ],
 "metadata": {
  "kernelspec": {
   "display_name": "Python 3 (ipykernel)",
   "language": "python",
   "name": "python3"
  },
  "language_info": {
   "codemirror_mode": {
    "name": "ipython",
    "version": 3
   },
   "file_extension": ".py",
   "mimetype": "text/x-python",
   "name": "python",
   "nbconvert_exporter": "python",
   "pygments_lexer": "ipython3",
   "version": "3.9.7"
  }
 },
 "nbformat": 4,
 "nbformat_minor": 5
}
